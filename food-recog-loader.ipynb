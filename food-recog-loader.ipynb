{
 "cells": [
  {
   "cell_type": "markdown",
   "id": "45f6fb36",
   "metadata": {
    "papermill": {
     "duration": 0.009764,
     "end_time": "2023-04-09T13:09:54.877122",
     "exception": false,
     "start_time": "2023-04-09T13:09:54.867358",
     "status": "completed"
    },
    "tags": []
   },
   "source": [
    "### Datasets\n",
    "\n",
    "All datasets are initially downloaded from [aicrowd](), and then uploaded to Kaggle to have them available there. This saves a lot of time on reloading the data when opening the notebook or running a new run. \n",
    "\n",
    "Import datasets from Kaggle directory of jaflaten \n",
    "the datasets are \n",
    "- food-testing\n",
    "- food-validation\n",
    "- food-training\n"
   ]
  },
  {
   "cell_type": "markdown",
   "id": "1c2db2cd",
   "metadata": {
    "papermill": {
     "duration": 0.008339,
     "end_time": "2023-04-09T13:09:54.894344",
     "exception": false,
     "start_time": "2023-04-09T13:09:54.886005",
     "status": "completed"
    },
    "tags": []
   },
   "source": [
    "Optional: Checking if the files are in place"
   ]
  },
  {
   "cell_type": "code",
   "execution_count": 1,
   "id": "f4253f1c",
   "metadata": {
    "execution": {
     "iopub.execute_input": "2023-04-09T13:09:54.912962Z",
     "iopub.status.busy": "2023-04-09T13:09:54.912230Z",
     "iopub.status.idle": "2023-04-09T13:09:55.917026Z",
     "shell.execute_reply": "2023-04-09T13:09:55.915794Z"
    },
    "papermill": {
     "duration": 1.017042,
     "end_time": "2023-04-09T13:09:55.919805",
     "exception": false,
     "start_time": "2023-04-09T13:09:54.902763",
     "status": "completed"
    },
    "tags": []
   },
   "outputs": [
    {
     "name": "stdout",
     "output_type": "stream",
     "text": [
      "annotations.json  images\r\n"
     ]
    }
   ],
   "source": [
    "!ls /kaggle/input/food-training\n"
   ]
  },
  {
   "cell_type": "markdown",
   "id": "4a1ebfa7",
   "metadata": {
    "papermill": {
     "duration": 0.008488,
     "end_time": "2023-04-09T13:09:55.937150",
     "exception": false,
     "start_time": "2023-04-09T13:09:55.928662",
     "status": "completed"
    },
    "tags": []
   },
   "source": [
    "### Importing dependencies\n",
    "Importing all the dependencies needed for training the model"
   ]
  },
  {
   "cell_type": "code",
   "execution_count": 2,
   "id": "a84bee90",
   "metadata": {
    "execution": {
     "iopub.execute_input": "2023-04-09T13:09:55.957390Z",
     "iopub.status.busy": "2023-04-09T13:09:55.956555Z",
     "iopub.status.idle": "2023-04-09T13:10:01.139060Z",
     "shell.execute_reply": "2023-04-09T13:10:01.137790Z"
    },
    "papermill": {
     "duration": 5.195485,
     "end_time": "2023-04-09T13:10:01.141907",
     "exception": false,
     "start_time": "2023-04-09T13:09:55.946422",
     "status": "completed"
    },
    "tags": []
   },
   "outputs": [],
   "source": [
    "from fastai.vision.all import *\n",
    "import numpy as np\n",
    "import pandas as pd\n",
    "import random\n",
    "from PIL import Image\n",
    "import os\n",
    "import json\n",
    "from pathlib import Path\n",
    "from fastai.metrics import Precision, Recall, accuracy\n",
    "import timm"
   ]
  },
  {
   "cell_type": "markdown",
   "id": "50155d46",
   "metadata": {
    "papermill": {
     "duration": 0.009405,
     "end_time": "2023-04-09T13:10:01.161176",
     "exception": false,
     "start_time": "2023-04-09T13:10:01.151771",
     "status": "completed"
    },
    "tags": []
   },
   "source": [
    "### Defining paths for datasets\n",
    "Defining the paths for the training and validation set images."
   ]
  },
  {
   "cell_type": "code",
   "execution_count": 3,
   "id": "6ac38765",
   "metadata": {
    "execution": {
     "iopub.execute_input": "2023-04-09T13:10:01.181863Z",
     "iopub.status.busy": "2023-04-09T13:10:01.181488Z",
     "iopub.status.idle": "2023-04-09T13:10:01.186573Z",
     "shell.execute_reply": "2023-04-09T13:10:01.185491Z"
    },
    "papermill": {
     "duration": 0.018274,
     "end_time": "2023-04-09T13:10:01.188929",
     "exception": false,
     "start_time": "2023-04-09T13:10:01.170655",
     "status": "completed"
    },
    "tags": []
   },
   "outputs": [],
   "source": [
    "#define paths\n",
    "\n",
    "path_validation = Path(\"/kaggle/input/food-validation/images/\")\n",
    "path_training = Path(\"/kaggle/input/food-training/images/\")"
   ]
  },
  {
   "cell_type": "markdown",
   "id": "4194c268",
   "metadata": {
    "papermill": {
     "duration": 0.008225,
     "end_time": "2023-04-09T13:10:01.206127",
     "exception": false,
     "start_time": "2023-04-09T13:10:01.197902",
     "status": "completed"
    },
    "tags": []
   },
   "source": [
    "### Loading the metadata \n",
    "The annotations.json file is a structure of information which includes a image_id and a category_id which are important when labelling the data. \n",
    "\n",
    "Here I load the metadata annotations.json for both training and validation set and creating a mapping between the category id and the name \n"
   ]
  },
  {
   "cell_type": "code",
   "execution_count": 4,
   "id": "a2b3abf2",
   "metadata": {
    "execution": {
     "iopub.execute_input": "2023-04-09T13:10:01.225507Z",
     "iopub.status.busy": "2023-04-09T13:10:01.224495Z",
     "iopub.status.idle": "2023-04-09T13:10:05.537559Z",
     "shell.execute_reply": "2023-04-09T13:10:05.536492Z"
    },
    "papermill": {
     "duration": 4.325449,
     "end_time": "2023-04-09T13:10:05.540068",
     "exception": false,
     "start_time": "2023-04-09T13:10:01.214619",
     "status": "completed"
    },
    "tags": []
   },
   "outputs": [],
   "source": [
    "# Load annotations file\n",
    "train_annotations_path = Path(\"/kaggle/input/food-training/annotations.json\")\n",
    "val_annotations_path = Path(\"/kaggle/input/food-validation/annotations.json\")\n",
    "\n",
    "with open(train_annotations_path) as f:\n",
    "    train_annotations = json.load(f)\n",
    "    \n",
    "with open(val_annotations_path) as f:\n",
    "    val_annotations = json.load(f)    \n",
    "\n",
    "# Create a dictionary mapping category IDs to their names\n",
    "categories = {}\n",
    "for category in train_annotations[\"categories\"]:\n",
    "    categories[category[\"id\"]] = category[\"name\"]"
   ]
  },
  {
   "cell_type": "markdown",
   "id": "99e38bf3",
   "metadata": {
    "papermill": {
     "duration": 0.008734,
     "end_time": "2023-04-09T13:10:05.557622",
     "exception": false,
     "start_time": "2023-04-09T13:10:05.548888",
     "status": "completed"
    },
    "tags": []
   },
   "source": [
    "\n",
    "The annotations.json data is loaded and added to a Pandas Dataframe for each dataset, one for training and one for validation.\n"
   ]
  },
  {
   "cell_type": "code",
   "execution_count": 5,
   "id": "2acb04e4",
   "metadata": {
    "execution": {
     "iopub.execute_input": "2023-04-09T13:10:05.576001Z",
     "iopub.status.busy": "2023-04-09T13:10:05.575621Z",
     "iopub.status.idle": "2023-04-09T13:10:09.245340Z",
     "shell.execute_reply": "2023-04-09T13:10:09.244224Z"
    },
    "papermill": {
     "duration": 3.682138,
     "end_time": "2023-04-09T13:10:09.248123",
     "exception": false,
     "start_time": "2023-04-09T13:10:05.565985",
     "status": "completed"
    },
    "tags": []
   },
   "outputs": [],
   "source": [
    "with open(train_annotations_path) as json_data:\n",
    "    data = json.load(json_data)\n",
    "    df_train_annotations = pd.DataFrame(data['annotations'])\n",
    "    \n",
    "with open(val_annotations_path) as json_data:\n",
    "    data = json.load(json_data)\n",
    "    df_val_annotations = pd.DataFrame(data['annotations'])    "
   ]
  },
  {
   "cell_type": "markdown",
   "id": "b9a48171",
   "metadata": {
    "papermill": {
     "duration": 0.008364,
     "end_time": "2023-04-09T13:10:09.265228",
     "exception": false,
     "start_time": "2023-04-09T13:10:09.256864",
     "status": "completed"
    },
    "tags": []
   },
   "source": [
    "Checking the output from each dataframe to verify it looks reasonable"
   ]
  },
  {
   "cell_type": "code",
   "execution_count": 6,
   "id": "72f3ba66",
   "metadata": {
    "execution": {
     "iopub.execute_input": "2023-04-09T13:10:09.283754Z",
     "iopub.status.busy": "2023-04-09T13:10:09.283432Z",
     "iopub.status.idle": "2023-04-09T13:10:09.303629Z",
     "shell.execute_reply": "2023-04-09T13:10:09.302330Z"
    },
    "papermill": {
     "duration": 0.033262,
     "end_time": "2023-04-09T13:10:09.307067",
     "exception": false,
     "start_time": "2023-04-09T13:10:09.273805",
     "status": "completed"
    },
    "tags": []
   },
   "outputs": [
    {
     "data": {
      "text/html": [
       "<div>\n",
       "<style scoped>\n",
       "    .dataframe tbody tr th:only-of-type {\n",
       "        vertical-align: middle;\n",
       "    }\n",
       "\n",
       "    .dataframe tbody tr th {\n",
       "        vertical-align: top;\n",
       "    }\n",
       "\n",
       "    .dataframe thead th {\n",
       "        text-align: right;\n",
       "    }\n",
       "</style>\n",
       "<table border=\"1\" class=\"dataframe\">\n",
       "  <thead>\n",
       "    <tr style=\"text-align: right;\">\n",
       "      <th></th>\n",
       "      <th>id</th>\n",
       "      <th>image_id</th>\n",
       "      <th>category_id</th>\n",
       "      <th>segmentation</th>\n",
       "      <th>area</th>\n",
       "      <th>bbox</th>\n",
       "      <th>iscrowd</th>\n",
       "    </tr>\n",
       "  </thead>\n",
       "  <tbody>\n",
       "    <tr>\n",
       "      <th>0</th>\n",
       "      <td>184135</td>\n",
       "      <td>131094</td>\n",
       "      <td>1352</td>\n",
       "      <td>[[115.0, 206.5, 98.0, 204.5, 74.5, 182.0, 65.0, 167.5, 47.5, 156.0, 39.5, 137.0, 39.5, 130.0, 51.0, 118.5, 62.00000000000001, 112.5, 76.0, 113.5, 121.5, 151.0, 130.5, 169.0, 131.5, 185.0, 128.5, 195.0]]</td>\n",
       "      <td>5059.0</td>\n",
       "      <td>[39.5, 39.5, 167.0, 92.0]</td>\n",
       "      <td>0</td>\n",
       "    </tr>\n",
       "    <tr>\n",
       "      <th>1</th>\n",
       "      <td>184136</td>\n",
       "      <td>131094</td>\n",
       "      <td>1893</td>\n",
       "      <td>[[182.2599609375, 210.67999877929685, 58.6599609375, 227.4799987792969, 9.459960937500002, 229.8799987792969, 8.2599609375, 341.4799987792969, 14.2599609375, 375.07999877929694, 49.059960937499994, 355.87999877929684, 64.6599609375, 327.0799987792969, 93.4599609375, 307.8799987792969, 139.0599609375, 305.47999877929686, 178.65996093750002, 307.8799987792969, 195.4599609375, 303.0799987792969, 196.6599609375, 270.67999877929685, 182.2599609375, 232.27999877929685, 181.05996093750002, 227.4799987792969]]</td>\n",
       "      <td>18642.0</td>\n",
       "      <td>[8.2599609375, 8.2599609375, 366.82003784179693, 188.39999999999998]</td>\n",
       "      <td>0</td>\n",
       "    </tr>\n",
       "  </tbody>\n",
       "</table>\n",
       "</div>"
      ],
      "text/plain": [
       "       id  image_id  category_id  \\\n",
       "0  184135    131094         1352   \n",
       "1  184136    131094         1893   \n",
       "\n",
       "                                                                                                                                                                                                                                                                                                                                                                                                                                                                                                                  segmentation  \\\n",
       "0                                                                                                                                                                                                                                                                                                                   [[115.0, 206.5, 98.0, 204.5, 74.5, 182.0, 65.0, 167.5, 47.5, 156.0, 39.5, 137.0, 39.5, 130.0, 51.0, 118.5, 62.00000000000001, 112.5, 76.0, 113.5, 121.5, 151.0, 130.5, 169.0, 131.5, 185.0, 128.5, 195.0]]   \n",
       "1  [[182.2599609375, 210.67999877929685, 58.6599609375, 227.4799987792969, 9.459960937500002, 229.8799987792969, 8.2599609375, 341.4799987792969, 14.2599609375, 375.07999877929694, 49.059960937499994, 355.87999877929684, 64.6599609375, 327.0799987792969, 93.4599609375, 307.8799987792969, 139.0599609375, 305.47999877929686, 178.65996093750002, 307.8799987792969, 195.4599609375, 303.0799987792969, 196.6599609375, 270.67999877929685, 182.2599609375, 232.27999877929685, 181.05996093750002, 227.4799987792969]]   \n",
       "\n",
       "      area  \\\n",
       "0   5059.0   \n",
       "1  18642.0   \n",
       "\n",
       "                                                                   bbox  \\\n",
       "0                                             [39.5, 39.5, 167.0, 92.0]   \n",
       "1  [8.2599609375, 8.2599609375, 366.82003784179693, 188.39999999999998]   \n",
       "\n",
       "   iscrowd  \n",
       "0        0  \n",
       "1        0  "
      ]
     },
     "execution_count": 6,
     "metadata": {},
     "output_type": "execute_result"
    }
   ],
   "source": [
    "df_train_annotations.head(2)"
   ]
  },
  {
   "cell_type": "code",
   "execution_count": 7,
   "id": "58572fe5",
   "metadata": {
    "execution": {
     "iopub.execute_input": "2023-04-09T13:10:09.327312Z",
     "iopub.status.busy": "2023-04-09T13:10:09.326984Z",
     "iopub.status.idle": "2023-04-09T13:10:09.340314Z",
     "shell.execute_reply": "2023-04-09T13:10:09.339265Z"
    },
    "papermill": {
     "duration": 0.025267,
     "end_time": "2023-04-09T13:10:09.342537",
     "exception": false,
     "start_time": "2023-04-09T13:10:09.317270",
     "status": "completed"
    },
    "tags": []
   },
   "outputs": [
    {
     "data": {
      "text/html": [
       "<div>\n",
       "<style scoped>\n",
       "    .dataframe tbody tr th:only-of-type {\n",
       "        vertical-align: middle;\n",
       "    }\n",
       "\n",
       "    .dataframe tbody tr th {\n",
       "        vertical-align: top;\n",
       "    }\n",
       "\n",
       "    .dataframe thead th {\n",
       "        text-align: right;\n",
       "    }\n",
       "</style>\n",
       "<table border=\"1\" class=\"dataframe\">\n",
       "  <thead>\n",
       "    <tr style=\"text-align: right;\">\n",
       "      <th></th>\n",
       "      <th>id</th>\n",
       "      <th>image_id</th>\n",
       "      <th>category_id</th>\n",
       "      <th>segmentation</th>\n",
       "      <th>area</th>\n",
       "      <th>bbox</th>\n",
       "      <th>iscrowd</th>\n",
       "    </tr>\n",
       "  </thead>\n",
       "  <tbody>\n",
       "    <tr>\n",
       "      <th>0</th>\n",
       "      <td>233459</td>\n",
       "      <td>149022</td>\n",
       "      <td>2504</td>\n",
       "      <td>[[214.0, 152.5, 175.0, 144.5, 156.5, 133.0, 153.5, 119.0, 159.5, 99.0, 168.0, 89.5, 191.0, 77.5, 231.99999999999997, 73.5, 258.0, 80.5, 279.5, 95.0, 285.5, 104.0, 288.5, 122.0, 278.0, 137.5, 250.00000000000003, 148.5]]</td>\n",
       "      <td>8225.0</td>\n",
       "      <td>[77.5, 153.5, 136.5, 135.0]</td>\n",
       "      <td>0</td>\n",
       "    </tr>\n",
       "    <tr>\n",
       "      <th>1</th>\n",
       "      <td>237814</td>\n",
       "      <td>149022</td>\n",
       "      <td>2131</td>\n",
       "      <td>[[327.315625, 304.90686111450196, 83.890625, 271.919361114502, 65.690625, 361.78186111450196, 319.35312500000003, 409.556861114502, 320.49062499999997, 312.86936111450194]]</td>\n",
       "      <td>24367.0</td>\n",
       "      <td>[65.690625, 65.690625, 261.625, 261.625]</td>\n",
       "      <td>0</td>\n",
       "    </tr>\n",
       "  </tbody>\n",
       "</table>\n",
       "</div>"
      ],
      "text/plain": [
       "       id  image_id  category_id  \\\n",
       "0  233459    149022         2504   \n",
       "1  237814    149022         2131   \n",
       "\n",
       "                                                                                                                                                                                                                 segmentation  \\\n",
       "0  [[214.0, 152.5, 175.0, 144.5, 156.5, 133.0, 153.5, 119.0, 159.5, 99.0, 168.0, 89.5, 191.0, 77.5, 231.99999999999997, 73.5, 258.0, 80.5, 279.5, 95.0, 285.5, 104.0, 288.5, 122.0, 278.0, 137.5, 250.00000000000003, 148.5]]   \n",
       "1                                                [[327.315625, 304.90686111450196, 83.890625, 271.919361114502, 65.690625, 361.78186111450196, 319.35312500000003, 409.556861114502, 320.49062499999997, 312.86936111450194]]   \n",
       "\n",
       "      area                                      bbox  iscrowd  \n",
       "0   8225.0               [77.5, 153.5, 136.5, 135.0]        0  \n",
       "1  24367.0  [65.690625, 65.690625, 261.625, 261.625]        0  "
      ]
     },
     "execution_count": 7,
     "metadata": {},
     "output_type": "execute_result"
    }
   ],
   "source": [
    "df_val_annotations.head(2)\n"
   ]
  },
  {
   "cell_type": "markdown",
   "id": "3e0dc1c3",
   "metadata": {
    "papermill": {
     "duration": 0.009076,
     "end_time": "2023-04-09T13:10:09.361706",
     "exception": false,
     "start_time": "2023-04-09T13:10:09.352630",
     "status": "completed"
    },
    "tags": []
   },
   "source": [
    "### Merging datasets\n",
    "Here the training and validation datasets are merged into one make it easier to use when we will create a ImageDataLoader later."
   ]
  },
  {
   "cell_type": "code",
   "execution_count": 8,
   "id": "b0b6e199",
   "metadata": {
    "execution": {
     "iopub.execute_input": "2023-04-09T13:10:09.381456Z",
     "iopub.status.busy": "2023-04-09T13:10:09.380897Z",
     "iopub.status.idle": "2023-04-09T13:10:09.397455Z",
     "shell.execute_reply": "2023-04-09T13:10:09.396552Z"
    },
    "papermill": {
     "duration": 0.028708,
     "end_time": "2023-04-09T13:10:09.399684",
     "exception": false,
     "start_time": "2023-04-09T13:10:09.370976",
     "status": "completed"
    },
    "tags": []
   },
   "outputs": [],
   "source": [
    "df_annotations = pd.concat([df_train_annotations, df_val_annotations])"
   ]
  },
  {
   "cell_type": "code",
   "execution_count": 9,
   "id": "c1ae0360",
   "metadata": {
    "execution": {
     "iopub.execute_input": "2023-04-09T13:10:09.419641Z",
     "iopub.status.busy": "2023-04-09T13:10:09.419336Z",
     "iopub.status.idle": "2023-04-09T13:10:09.434004Z",
     "shell.execute_reply": "2023-04-09T13:10:09.432816Z"
    },
    "papermill": {
     "duration": 0.027427,
     "end_time": "2023-04-09T13:10:09.436510",
     "exception": false,
     "start_time": "2023-04-09T13:10:09.409083",
     "status": "completed"
    },
    "tags": []
   },
   "outputs": [
    {
     "data": {
      "text/html": [
       "<div>\n",
       "<style scoped>\n",
       "    .dataframe tbody tr th:only-of-type {\n",
       "        vertical-align: middle;\n",
       "    }\n",
       "\n",
       "    .dataframe tbody tr th {\n",
       "        vertical-align: top;\n",
       "    }\n",
       "\n",
       "    .dataframe thead th {\n",
       "        text-align: right;\n",
       "    }\n",
       "</style>\n",
       "<table border=\"1\" class=\"dataframe\">\n",
       "  <thead>\n",
       "    <tr style=\"text-align: right;\">\n",
       "      <th></th>\n",
       "      <th>id</th>\n",
       "      <th>image_id</th>\n",
       "      <th>category_id</th>\n",
       "      <th>segmentation</th>\n",
       "      <th>area</th>\n",
       "      <th>bbox</th>\n",
       "      <th>iscrowd</th>\n",
       "    </tr>\n",
       "  </thead>\n",
       "  <tbody>\n",
       "    <tr>\n",
       "      <th>0</th>\n",
       "      <td>184135</td>\n",
       "      <td>131094</td>\n",
       "      <td>1352</td>\n",
       "      <td>[[115.0, 206.5, 98.0, 204.5, 74.5, 182.0, 65.0, 167.5, 47.5, 156.0, 39.5, 137.0, 39.5, 130.0, 51.0, 118.5, 62.00000000000001, 112.5, 76.0, 113.5, 121.5, 151.0, 130.5, 169.0, 131.5, 185.0, 128.5, 195.0]]</td>\n",
       "      <td>5059.0</td>\n",
       "      <td>[39.5, 39.5, 167.0, 92.0]</td>\n",
       "      <td>0</td>\n",
       "    </tr>\n",
       "    <tr>\n",
       "      <th>1</th>\n",
       "      <td>184136</td>\n",
       "      <td>131094</td>\n",
       "      <td>1893</td>\n",
       "      <td>[[182.2599609375, 210.67999877929685, 58.6599609375, 227.4799987792969, 9.459960937500002, 229.8799987792969, 8.2599609375, 341.4799987792969, 14.2599609375, 375.07999877929694, 49.059960937499994, 355.87999877929684, 64.6599609375, 327.0799987792969, 93.4599609375, 307.8799987792969, 139.0599609375, 305.47999877929686, 178.65996093750002, 307.8799987792969, 195.4599609375, 303.0799987792969, 196.6599609375, 270.67999877929685, 182.2599609375, 232.27999877929685, 181.05996093750002, 227.4799987792969]]</td>\n",
       "      <td>18642.0</td>\n",
       "      <td>[8.2599609375, 8.2599609375, 366.82003784179693, 188.39999999999998]</td>\n",
       "      <td>0</td>\n",
       "    </tr>\n",
       "  </tbody>\n",
       "</table>\n",
       "</div>"
      ],
      "text/plain": [
       "       id  image_id  category_id  \\\n",
       "0  184135    131094         1352   \n",
       "1  184136    131094         1893   \n",
       "\n",
       "                                                                                                                                                                                                                                                                                                                                                                                                                                                                                                                  segmentation  \\\n",
       "0                                                                                                                                                                                                                                                                                                                   [[115.0, 206.5, 98.0, 204.5, 74.5, 182.0, 65.0, 167.5, 47.5, 156.0, 39.5, 137.0, 39.5, 130.0, 51.0, 118.5, 62.00000000000001, 112.5, 76.0, 113.5, 121.5, 151.0, 130.5, 169.0, 131.5, 185.0, 128.5, 195.0]]   \n",
       "1  [[182.2599609375, 210.67999877929685, 58.6599609375, 227.4799987792969, 9.459960937500002, 229.8799987792969, 8.2599609375, 341.4799987792969, 14.2599609375, 375.07999877929694, 49.059960937499994, 355.87999877929684, 64.6599609375, 327.0799987792969, 93.4599609375, 307.8799987792969, 139.0599609375, 305.47999877929686, 178.65996093750002, 307.8799987792969, 195.4599609375, 303.0799987792969, 196.6599609375, 270.67999877929685, 182.2599609375, 232.27999877929685, 181.05996093750002, 227.4799987792969]]   \n",
       "\n",
       "      area  \\\n",
       "0   5059.0   \n",
       "1  18642.0   \n",
       "\n",
       "                                                                   bbox  \\\n",
       "0                                             [39.5, 39.5, 167.0, 92.0]   \n",
       "1  [8.2599609375, 8.2599609375, 366.82003784179693, 188.39999999999998]   \n",
       "\n",
       "   iscrowd  \n",
       "0        0  \n",
       "1        0  "
      ]
     },
     "execution_count": 9,
     "metadata": {},
     "output_type": "execute_result"
    }
   ],
   "source": [
    "df_annotations.head(2)"
   ]
  },
  {
   "cell_type": "markdown",
   "id": "b6d58fca",
   "metadata": {
    "papermill": {
     "duration": 0.009456,
     "end_time": "2023-04-09T13:10:09.455864",
     "exception": false,
     "start_time": "2023-04-09T13:10:09.446408",
     "status": "completed"
    },
    "tags": []
   },
   "source": [
    "### Labelling the data\n",
    "\n",
    "To label each image with the correct label based onthe image id I needed to iterate the annotations file and find the images with the corresponding image id similar to the name of the image file. So this function can take a given image name and return the label that should be set to that image. "
   ]
  },
  {
   "cell_type": "code",
   "execution_count": 10,
   "id": "7aea2897",
   "metadata": {
    "execution": {
     "iopub.execute_input": "2023-04-09T13:10:09.476533Z",
     "iopub.status.busy": "2023-04-09T13:10:09.475939Z",
     "iopub.status.idle": "2023-04-09T13:10:09.481625Z",
     "shell.execute_reply": "2023-04-09T13:10:09.480788Z"
    },
    "papermill": {
     "duration": 0.018774,
     "end_time": "2023-04-09T13:10:09.483931",
     "exception": false,
     "start_time": "2023-04-09T13:10:09.465157",
     "status": "completed"
    },
    "tags": []
   },
   "outputs": [],
   "source": [
    "\n",
    "# Define the get_label function\n",
    "def get_label(image_filename):\n",
    "    image_id = int(Path(image_filename).stem.lstrip(\"0\"))\n",
    "    return categories[df_annotations.loc[df_annotations['image_id'] == image_id]['category_id'].values[0]]\n",
    "    "
   ]
  },
  {
   "cell_type": "markdown",
   "id": "3e4b4405",
   "metadata": {
    "papermill": {
     "duration": 0.009114,
     "end_time": "2023-04-09T13:10:09.502629",
     "exception": false,
     "start_time": "2023-04-09T13:10:09.493515",
     "status": "completed"
    },
    "tags": []
   },
   "source": [
    "Testing the get_lable function to verify that we get labels based on a pre-picked image. "
   ]
  },
  {
   "cell_type": "code",
   "execution_count": 11,
   "id": "1b7af786",
   "metadata": {
    "execution": {
     "iopub.execute_input": "2023-04-09T13:10:09.523001Z",
     "iopub.status.busy": "2023-04-09T13:10:09.522693Z",
     "iopub.status.idle": "2023-04-09T13:10:09.544543Z",
     "shell.execute_reply": "2023-04-09T13:10:09.543404Z"
    },
    "papermill": {
     "duration": 0.035003,
     "end_time": "2023-04-09T13:10:09.547190",
     "exception": false,
     "start_time": "2023-04-09T13:10:09.512187",
     "status": "completed"
    },
    "tags": []
   },
   "outputs": [
    {
     "data": {
      "text/plain": [
       "'chicken'"
      ]
     },
     "execution_count": 11,
     "metadata": {},
     "output_type": "execute_result"
    }
   ],
   "source": [
    "get_label(\"059339.jpg\")"
   ]
  },
  {
   "cell_type": "code",
   "execution_count": 12,
   "id": "194ae9c0",
   "metadata": {
    "execution": {
     "iopub.execute_input": "2023-04-09T13:10:09.567554Z",
     "iopub.status.busy": "2023-04-09T13:10:09.567266Z",
     "iopub.status.idle": "2023-04-09T13:10:09.574566Z",
     "shell.execute_reply": "2023-04-09T13:10:09.573604Z"
    },
    "papermill": {
     "duration": 0.020074,
     "end_time": "2023-04-09T13:10:09.576929",
     "exception": false,
     "start_time": "2023-04-09T13:10:09.556855",
     "status": "completed"
    },
    "tags": []
   },
   "outputs": [
    {
     "data": {
      "text/plain": [
       "'espresso-with-caffeine'"
      ]
     },
     "execution_count": 12,
     "metadata": {},
     "output_type": "execute_result"
    }
   ],
   "source": [
    "get_label(\"149022.jpg\")"
   ]
  },
  {
   "cell_type": "markdown",
   "id": "29d36bd7",
   "metadata": {
    "papermill": {
     "duration": 0.00911,
     "end_time": "2023-04-09T13:10:09.595450",
     "exception": false,
     "start_time": "2023-04-09T13:10:09.586340",
     "status": "completed"
    },
    "tags": []
   },
   "source": [
    "### Modifying the dataframe\n",
    "Creating a new dataframe containing two columns. One for the image name full path including the filename. For instance ```/kaggle/input/food-training/images/059339.jpg```\n",
    "\n",
    "And one column to determine if the image is from the test or the validation set by setting the ```is_val``` to either False or True. This will be True for the validation data, and false otherwise.\n",
    "\n",
    "At the end the two dataframes are merged together to one dataframe. "
   ]
  },
  {
   "cell_type": "code",
   "execution_count": 13,
   "id": "238a7dc4",
   "metadata": {
    "execution": {
     "iopub.execute_input": "2023-04-09T13:10:09.616307Z",
     "iopub.status.busy": "2023-04-09T13:10:09.616010Z",
     "iopub.status.idle": "2023-04-09T13:10:10.356050Z",
     "shell.execute_reply": "2023-04-09T13:10:10.354787Z"
    },
    "papermill": {
     "duration": 0.753751,
     "end_time": "2023-04-09T13:10:10.358919",
     "exception": false,
     "start_time": "2023-04-09T13:10:09.605168",
     "status": "completed"
    },
    "tags": []
   },
   "outputs": [],
   "source": [
    "df_train = pd.DataFrame(list(path_training.ls()), columns=[\"img\"])\n",
    "df_val = pd.DataFrame(list(path_validation.ls()), columns=[\"img\"])\n",
    "\n",
    "df_train[\"is_val\"] = False\n",
    "df_val[\"is_val\"] = True\n",
    "df = pd.concat([df_train, df_val])"
   ]
  },
  {
   "cell_type": "markdown",
   "id": "9f67888f",
   "metadata": {
    "papermill": {
     "duration": 0.009916,
     "end_time": "2023-04-09T13:10:10.379149",
     "exception": false,
     "start_time": "2023-04-09T13:10:10.369233",
     "status": "completed"
    },
    "tags": []
   },
   "source": [
    "Verifying dataframe content with manual inspection"
   ]
  },
  {
   "cell_type": "code",
   "execution_count": 14,
   "id": "8afe1b63",
   "metadata": {
    "execution": {
     "iopub.execute_input": "2023-04-09T13:10:10.401132Z",
     "iopub.status.busy": "2023-04-09T13:10:10.400572Z",
     "iopub.status.idle": "2023-04-09T13:10:10.410755Z",
     "shell.execute_reply": "2023-04-09T13:10:10.409585Z"
    },
    "papermill": {
     "duration": 0.023369,
     "end_time": "2023-04-09T13:10:10.412905",
     "exception": false,
     "start_time": "2023-04-09T13:10:10.389536",
     "status": "completed"
    },
    "tags": []
   },
   "outputs": [
    {
     "data": {
      "text/html": [
       "<div>\n",
       "<style scoped>\n",
       "    .dataframe tbody tr th:only-of-type {\n",
       "        vertical-align: middle;\n",
       "    }\n",
       "\n",
       "    .dataframe tbody tr th {\n",
       "        vertical-align: top;\n",
       "    }\n",
       "\n",
       "    .dataframe thead th {\n",
       "        text-align: right;\n",
       "    }\n",
       "</style>\n",
       "<table border=\"1\" class=\"dataframe\">\n",
       "  <thead>\n",
       "    <tr style=\"text-align: right;\">\n",
       "      <th></th>\n",
       "      <th>img</th>\n",
       "      <th>is_val</th>\n",
       "    </tr>\n",
       "  </thead>\n",
       "  <tbody>\n",
       "    <tr>\n",
       "      <th>0</th>\n",
       "      <td>/kaggle/input/food-training/images/059339.jpg</td>\n",
       "      <td>False</td>\n",
       "    </tr>\n",
       "    <tr>\n",
       "      <th>1</th>\n",
       "      <td>/kaggle/input/food-training/images/046754.jpg</td>\n",
       "      <td>False</td>\n",
       "    </tr>\n",
       "  </tbody>\n",
       "</table>\n",
       "</div>"
      ],
      "text/plain": [
       "                                             img  is_val\n",
       "0  /kaggle/input/food-training/images/059339.jpg   False\n",
       "1  /kaggle/input/food-training/images/046754.jpg   False"
      ]
     },
     "execution_count": 14,
     "metadata": {},
     "output_type": "execute_result"
    }
   ],
   "source": [
    "df.head(2)"
   ]
  },
  {
   "cell_type": "code",
   "execution_count": 15,
   "id": "e95adade",
   "metadata": {
    "execution": {
     "iopub.execute_input": "2023-04-09T13:10:10.434353Z",
     "iopub.status.busy": "2023-04-09T13:10:10.433802Z",
     "iopub.status.idle": "2023-04-09T13:10:10.442938Z",
     "shell.execute_reply": "2023-04-09T13:10:10.441939Z"
    },
    "papermill": {
     "duration": 0.02203,
     "end_time": "2023-04-09T13:10:10.445021",
     "exception": false,
     "start_time": "2023-04-09T13:10:10.422991",
     "status": "completed"
    },
    "tags": []
   },
   "outputs": [
    {
     "data": {
      "text/html": [
       "<div>\n",
       "<style scoped>\n",
       "    .dataframe tbody tr th:only-of-type {\n",
       "        vertical-align: middle;\n",
       "    }\n",
       "\n",
       "    .dataframe tbody tr th {\n",
       "        vertical-align: top;\n",
       "    }\n",
       "\n",
       "    .dataframe thead th {\n",
       "        text-align: right;\n",
       "    }\n",
       "</style>\n",
       "<table border=\"1\" class=\"dataframe\">\n",
       "  <thead>\n",
       "    <tr style=\"text-align: right;\">\n",
       "      <th></th>\n",
       "      <th>img</th>\n",
       "      <th>is_val</th>\n",
       "    </tr>\n",
       "  </thead>\n",
       "  <tbody>\n",
       "    <tr>\n",
       "      <th>998</th>\n",
       "      <td>/kaggle/input/food-validation/images/146957.jpg</td>\n",
       "      <td>True</td>\n",
       "    </tr>\n",
       "    <tr>\n",
       "      <th>999</th>\n",
       "      <td>/kaggle/input/food-validation/images/163225.jpg</td>\n",
       "      <td>True</td>\n",
       "    </tr>\n",
       "  </tbody>\n",
       "</table>\n",
       "</div>"
      ],
      "text/plain": [
       "                                                 img  is_val\n",
       "998  /kaggle/input/food-validation/images/146957.jpg    True\n",
       "999  /kaggle/input/food-validation/images/163225.jpg    True"
      ]
     },
     "execution_count": 15,
     "metadata": {},
     "output_type": "execute_result"
    }
   ],
   "source": [
    "df.tail(2)"
   ]
  },
  {
   "cell_type": "markdown",
   "id": "89c14554",
   "metadata": {
    "papermill": {
     "duration": 0.010069,
     "end_time": "2023-04-09T13:10:10.465122",
     "exception": false,
     "start_time": "2023-04-09T13:10:10.455053",
     "status": "completed"
    },
    "tags": []
   },
   "source": [
    "### Adding the labels\n",
    "The last modification to the dataframe is to add another column for the label to each image, this is so the model can know what is correct and wrong when being trained. To add the model we can use the get_label function that was defined earlier and do this for every image in the dataframe"
   ]
  },
  {
   "cell_type": "code",
   "execution_count": 16,
   "id": "2fcad4ec",
   "metadata": {
    "execution": {
     "iopub.execute_input": "2023-04-09T13:10:10.497928Z",
     "iopub.status.busy": "2023-04-09T13:10:10.497419Z",
     "iopub.status.idle": "2023-04-09T13:10:30.829315Z",
     "shell.execute_reply": "2023-04-09T13:10:30.828220Z"
    },
    "papermill": {
     "duration": 20.357032,
     "end_time": "2023-04-09T13:10:30.832286",
     "exception": false,
     "start_time": "2023-04-09T13:10:10.475254",
     "status": "completed"
    },
    "tags": []
   },
   "outputs": [],
   "source": [
    "df['label'] = df['img'].apply(get_label)"
   ]
  },
  {
   "cell_type": "code",
   "execution_count": 17,
   "id": "ca2ac522",
   "metadata": {
    "execution": {
     "iopub.execute_input": "2023-04-09T13:10:30.855208Z",
     "iopub.status.busy": "2023-04-09T13:10:30.854900Z",
     "iopub.status.idle": "2023-04-09T13:10:30.865771Z",
     "shell.execute_reply": "2023-04-09T13:10:30.864512Z"
    },
    "papermill": {
     "duration": 0.024868,
     "end_time": "2023-04-09T13:10:30.868274",
     "exception": false,
     "start_time": "2023-04-09T13:10:30.843406",
     "status": "completed"
    },
    "tags": []
   },
   "outputs": [
    {
     "data": {
      "text/html": [
       "<div>\n",
       "<style scoped>\n",
       "    .dataframe tbody tr th:only-of-type {\n",
       "        vertical-align: middle;\n",
       "    }\n",
       "\n",
       "    .dataframe tbody tr th {\n",
       "        vertical-align: top;\n",
       "    }\n",
       "\n",
       "    .dataframe thead th {\n",
       "        text-align: right;\n",
       "    }\n",
       "</style>\n",
       "<table border=\"1\" class=\"dataframe\">\n",
       "  <thead>\n",
       "    <tr style=\"text-align: right;\">\n",
       "      <th></th>\n",
       "      <th>img</th>\n",
       "      <th>is_val</th>\n",
       "      <th>label</th>\n",
       "    </tr>\n",
       "  </thead>\n",
       "  <tbody>\n",
       "    <tr>\n",
       "      <th>0</th>\n",
       "      <td>/kaggle/input/food-training/images/059339.jpg</td>\n",
       "      <td>False</td>\n",
       "      <td>chicken</td>\n",
       "    </tr>\n",
       "    <tr>\n",
       "      <th>1</th>\n",
       "      <td>/kaggle/input/food-training/images/046754.jpg</td>\n",
       "      <td>False</td>\n",
       "      <td>beer</td>\n",
       "    </tr>\n",
       "  </tbody>\n",
       "</table>\n",
       "</div>"
      ],
      "text/plain": [
       "                                             img  is_val    label\n",
       "0  /kaggle/input/food-training/images/059339.jpg   False  chicken\n",
       "1  /kaggle/input/food-training/images/046754.jpg   False     beer"
      ]
     },
     "execution_count": 17,
     "metadata": {},
     "output_type": "execute_result"
    }
   ],
   "source": [
    "df.head(2)"
   ]
  },
  {
   "cell_type": "markdown",
   "id": "64ad8dca",
   "metadata": {
    "papermill": {
     "duration": 0.011119,
     "end_time": "2023-04-09T13:10:30.890468",
     "exception": false,
     "start_time": "2023-04-09T13:10:30.879349",
     "status": "completed"
    },
    "tags": []
   },
   "source": [
    "### Creating a ImageDataLoader\n",
    "\n",
    "To create the ImageDataLoader we want to create it from the dataframe that was stitched together above. The images are being resized and scaled. The labels are set using the get_label function defined above. "
   ]
  },
  {
   "cell_type": "code",
   "execution_count": 18,
   "id": "a437b4fc",
   "metadata": {
    "execution": {
     "iopub.execute_input": "2023-04-09T13:10:30.914406Z",
     "iopub.status.busy": "2023-04-09T13:10:30.913495Z",
     "iopub.status.idle": "2023-04-09T13:10:42.525093Z",
     "shell.execute_reply": "2023-04-09T13:10:42.523975Z"
    },
    "papermill": {
     "duration": 11.626615,
     "end_time": "2023-04-09T13:10:42.528103",
     "exception": false,
     "start_time": "2023-04-09T13:10:30.901488",
     "status": "completed"
    },
    "tags": []
   },
   "outputs": [],
   "source": [
    "dls = ImageDataLoaders.from_df(df, label_col=2, valid_col=1, path=\"/\",\n",
    "                                item_tfms=Resize(192, method='squish'),\n",
    "                                batch_tfms=aug_transforms(size=128, min_scale=0.75),\n",
    "                                label_func=get_label)"
   ]
  },
  {
   "cell_type": "code",
   "execution_count": 19,
   "id": "9ba9c0bd",
   "metadata": {
    "execution": {
     "iopub.execute_input": "2023-04-09T13:10:42.551250Z",
     "iopub.status.busy": "2023-04-09T13:10:42.550936Z",
     "iopub.status.idle": "2023-04-09T13:10:42.556471Z",
     "shell.execute_reply": "2023-04-09T13:10:42.555517Z"
    },
    "papermill": {
     "duration": 0.019418,
     "end_time": "2023-04-09T13:10:42.558712",
     "exception": false,
     "start_time": "2023-04-09T13:10:42.539294",
     "status": "completed"
    },
    "tags": []
   },
   "outputs": [],
   "source": [
    "#testing resize crop \n",
    "#dls.train = dls.train.new(\n",
    "#    item_tfms=RandomResizedCrop(128, min_scale=0.5),\n",
    "#    batch_tfms=aug_transforms(size=128, min_scale=0.75)\n",
    "#)"
   ]
  },
  {
   "cell_type": "markdown",
   "id": "4cf4fd64",
   "metadata": {
    "papermill": {
     "duration": 0.010484,
     "end_time": "2023-04-09T13:10:42.579622",
     "exception": false,
     "start_time": "2023-04-09T13:10:42.569138",
     "status": "completed"
    },
    "tags": []
   },
   "source": [
    "Checking out a small sample of the images to see what they look like and that they are labeled\n"
   ]
  },
  {
   "cell_type": "code",
   "execution_count": 20,
   "id": "2c5dcc89",
   "metadata": {
    "execution": {
     "iopub.execute_input": "2023-04-09T13:10:42.602458Z",
     "iopub.status.busy": "2023-04-09T13:10:42.602137Z",
     "iopub.status.idle": "2023-04-09T13:10:44.210541Z",
     "shell.execute_reply": "2023-04-09T13:10:44.209568Z"
    },
    "papermill": {
     "duration": 1.626379,
     "end_time": "2023-04-09T13:10:44.216416",
     "exception": false,
     "start_time": "2023-04-09T13:10:42.590037",
     "status": "completed"
    },
    "tags": []
   },
   "outputs": [
    {
     "data": {
      "image/png": "[encoded data removed]",
      "text/plain": [
       "<Figure size 600x600 with 4 Axes>"
      ]
     },
     "metadata": {},
     "output_type": "display_data"
    }
   ],
   "source": [
    "dls.show_batch(max_n=4)"
   ]
  },
  {
   "cell_type": "markdown",
   "id": "349dd1e5",
   "metadata": {
    "papermill": {
     "duration": 0.013917,
     "end_time": "2023-04-09T13:10:44.244937",
     "exception": false,
     "start_time": "2023-04-09T13:10:44.231020",
     "status": "completed"
    },
    "tags": []
   },
   "source": [
    "Set a architecture to use"
   ]
  },
  {
   "cell_type": "code",
   "execution_count": 21,
   "id": "da4966bf",
   "metadata": {
    "execution": {
     "iopub.execute_input": "2023-04-09T13:10:44.274899Z",
     "iopub.status.busy": "2023-04-09T13:10:44.274571Z",
     "iopub.status.idle": "2023-04-09T13:10:44.278867Z",
     "shell.execute_reply": "2023-04-09T13:10:44.277780Z"
    },
    "papermill": {
     "duration": 0.021751,
     "end_time": "2023-04-09T13:10:44.281137",
     "exception": false,
     "start_time": "2023-04-09T13:10:44.259386",
     "status": "completed"
    },
    "tags": []
   },
   "outputs": [],
   "source": [
    "architecture = 'convnext_large_in22ft1k'\n",
    "#architecture = 'convnext_small_in22k'"
   ]
  },
  {
   "cell_type": "markdown",
   "id": "00aa27f7",
   "metadata": {
    "papermill": {
     "duration": 0.014585,
     "end_time": "2023-04-09T13:10:44.309490",
     "exception": false,
     "start_time": "2023-04-09T13:10:44.294905",
     "status": "completed"
    },
    "tags": []
   },
   "source": [
    "### Metrics and creating a vision learner\n",
    "\n",
    "We want to have average precision, average recall and accuracy as our metrics. The AP and AR are to be able to compare the model to the leaderboards at [aicrowd](https://www.aicrowd.com/challenges/food-recognition-benchmark-2022/leaderboards). Accuracy will be a useful metric to easily see how well the model performs on the validation set. \n",
    "\n",
    "These are used as parameters to the vision_learner when creating a learner. We also specify the architecture to use, the DataLoaders and that we want to use a pretrained model. The last parameter will significantly help us achieve proper results when leveraging a model that has already been trained on a large dataset. "
   ]
  },
  {
   "cell_type": "code",
   "execution_count": 22,
   "id": "5bc8e5d9",
   "metadata": {
    "execution": {
     "iopub.execute_input": "2023-04-09T13:10:44.340210Z",
     "iopub.status.busy": "2023-04-09T13:10:44.339718Z",
     "iopub.status.idle": "2023-04-09T13:10:52.546287Z",
     "shell.execute_reply": "2023-04-09T13:10:52.545129Z"
    },
    "papermill": {
     "duration": 8.230239,
     "end_time": "2023-04-09T13:10:52.554262",
     "exception": false,
     "start_time": "2023-04-09T13:10:44.324023",
     "status": "completed"
    },
    "tags": []
   },
   "outputs": [
    {
     "name": "stderr",
     "output_type": "stream",
     "text": [
      "Downloading: \"https://dl.fbaipublicfiles.com/convnext/convnext_large_22k_1k_224.pth\" to /root/.cache/torch/hub/checkpoints/convnext_large_22k_1k_224.pth\n"
     ]
    }
   ],
   "source": [
    "average_precision = Precision(average='macro', pos_label=1)\n",
    "average_recall = Recall(average='macro', pos_label=1)\n",
    "learner = vision_learner(dls, architecture, metrics=[accuracy, average_precision, average_recall], pretrained=True).to_fp16()"
   ]
  },
  {
   "cell_type": "code",
   "execution_count": 23,
   "id": "4954e61e",
   "metadata": {
    "execution": {
     "iopub.execute_input": "2023-04-09T13:10:52.610220Z",
     "iopub.status.busy": "2023-04-09T13:10:52.609409Z",
     "iopub.status.idle": "2023-04-09T13:10:52.620579Z",
     "shell.execute_reply": "2023-04-09T13:10:52.615888Z"
    },
    "papermill": {
     "duration": 0.044226,
     "end_time": "2023-04-09T13:10:52.623520",
     "exception": false,
     "start_time": "2023-04-09T13:10:52.579294",
     "status": "completed"
    },
    "tags": []
   },
   "outputs": [],
   "source": [
    "#learner = vision_learner(dls, resnet34, metrics=accuracy)\n",
    "#learner = vision_learner(dls, 'convnext_small_in22k', metrics=[ap, ar]).to_fp16()"
   ]
  },
  {
   "cell_type": "markdown",
   "id": "bb877f8d",
   "metadata": {
    "papermill": {
     "duration": 0.02226,
     "end_time": "2023-04-09T13:10:52.669960",
     "exception": false,
     "start_time": "2023-04-09T13:10:52.647700",
     "status": "completed"
    },
    "tags": []
   },
   "source": [
    "### Find learning rate\n",
    "Find the optimal learning rate for the model and use it when fine tuning"
   ]
  },
  {
   "cell_type": "code",
   "execution_count": 24,
   "id": "dc8ad3a4",
   "metadata": {
    "execution": {
     "iopub.execute_input": "2023-04-09T13:10:52.719868Z",
     "iopub.status.busy": "2023-04-09T13:10:52.719485Z",
     "iopub.status.idle": "2023-04-09T13:12:32.648037Z",
     "shell.execute_reply": "2023-04-09T13:12:32.646806Z"
    },
    "papermill": {
     "duration": 99.956666,
     "end_time": "2023-04-09T13:12:32.650484",
     "exception": false,
     "start_time": "2023-04-09T13:10:52.693818",
     "status": "completed"
    },
    "tags": []
   },
   "outputs": [
    {
     "data": {
      "text/html": [
       "\n",
       "<style>\n",
       "    /* Turns off some styling */\n",
       "    progress {\n",
       "        /* gets rid of default border in Firefox and Opera. */\n",
       "        border: none;\n",
       "        /* Needs to be in here for Safari polyfill so background images work as expected. */\n",
       "        background-size: auto;\n",
       "    }\n",
       "    progress:not([value]), progress:not([value])::-webkit-progress-bar {\n",
       "        background: repeating-linear-gradient(45deg, #7e7e7e, #7e7e7e 10px, #5c5c5c 10px, #5c5c5c 20px);\n",
       "    }\n",
       "    .progress-bar-interrupted, .progress-bar-interrupted::-webkit-progress-bar {\n",
       "        background: #F44336;\n",
       "    }\n",
       "</style>\n"
      ],
      "text/plain": [
       "<IPython.core.display.HTML object>"
      ]
     },
     "metadata": {},
     "output_type": "display_data"
    },
    {
     "data": {
      "text/html": [],
      "text/plain": [
       "<IPython.core.display.HTML object>"
      ]
     },
     "metadata": {},
     "output_type": "display_data"
    },
    {
     "name": "stdout",
     "output_type": "stream",
     "text": [
      "0.003570668661268428\n"
     ]
    },
    {
     "data": {
      "image/png": "[encoded data removed]",
      "text/plain": [
       "<Figure size 640x480 with 1 Axes>"
      ]
     },
     "metadata": {},
     "output_type": "display_data"
    }
   ],
   "source": [
    "lr = learner.lr_find(suggest_funcs=(minimum, steep, valley), show_plot=True)\n",
    "base_lr = (lr.valley + lr.steep)/2\n",
    "print(base_lr)"
   ]
  },
  {
   "cell_type": "code",
   "execution_count": 25,
   "id": "c55cb90b",
   "metadata": {
    "execution": {
     "iopub.execute_input": "2023-04-09T13:12:32.683913Z",
     "iopub.status.busy": "2023-04-09T13:12:32.683567Z",
     "iopub.status.idle": "2023-04-09T15:04:58.656471Z",
     "shell.execute_reply": "2023-04-09T15:04:58.655134Z"
    },
    "papermill": {
     "duration": 6745.992216,
     "end_time": "2023-04-09T15:04:58.658820",
     "exception": false,
     "start_time": "2023-04-09T13:12:32.666604",
     "status": "completed"
    },
    "tags": []
   },
   "outputs": [
    {
     "data": {
      "text/html": [
       "\n",
       "<style>\n",
       "    /* Turns off some styling */\n",
       "    progress {\n",
       "        /* gets rid of default border in Firefox and Opera. */\n",
       "        border: none;\n",
       "        /* Needs to be in here for Safari polyfill so background images work as expected. */\n",
       "        background-size: auto;\n",
       "    }\n",
       "    progress:not([value]), progress:not([value])::-webkit-progress-bar {\n",
       "        background: repeating-linear-gradient(45deg, #7e7e7e, #7e7e7e 10px, #5c5c5c 10px, #5c5c5c 20px);\n",
       "    }\n",
       "    .progress-bar-interrupted, .progress-bar-interrupted::-webkit-progress-bar {\n",
       "        background: #F44336;\n",
       "    }\n",
       "</style>\n"
      ],
      "text/plain": [
       "<IPython.core.display.HTML object>"
      ]
     },
     "metadata": {},
     "output_type": "display_data"
    },
    {
     "data": {
      "text/html": [
       "<table border=\"1\" class=\"dataframe\">\n",
       "  <thead>\n",
       "    <tr style=\"text-align: left;\">\n",
       "      <th>epoch</th>\n",
       "      <th>train_loss</th>\n",
       "      <th>valid_loss</th>\n",
       "      <th>accuracy</th>\n",
       "      <th>precision_score</th>\n",
       "      <th>recall_score</th>\n",
       "      <th>time</th>\n",
       "    </tr>\n",
       "  </thead>\n",
       "  <tbody>\n",
       "    <tr>\n",
       "      <td>0</td>\n",
       "      <td>2.887325</td>\n",
       "      <td>2.566452</td>\n",
       "      <td>0.432000</td>\n",
       "      <td>0.242578</td>\n",
       "      <td>0.258051</td>\n",
       "      <td>10:05</td>\n",
       "    </tr>\n",
       "  </tbody>\n",
       "</table>"
      ],
      "text/plain": [
       "<IPython.core.display.HTML object>"
      ]
     },
     "metadata": {},
     "output_type": "display_data"
    },
    {
     "name": "stderr",
     "output_type": "stream",
     "text": [
      "/opt/conda/lib/python3.7/site-packages/sklearn/metrics/_classification.py:1318: UndefinedMetricWarning: Precision is ill-defined and being set to 0.0 in labels with no predicted samples. Use `zero_division` parameter to control this behavior.\n",
      "  _warn_prf(average, modifier, msg_start, len(result))\n",
      "/opt/conda/lib/python3.7/site-packages/sklearn/metrics/_classification.py:1318: UndefinedMetricWarning: Recall is ill-defined and being set to 0.0 in labels with no true samples. Use `zero_division` parameter to control this behavior.\n",
      "  _warn_prf(average, modifier, msg_start, len(result))\n"
     ]
    },
    {
     "data": {
      "text/html": [
       "\n",
       "<style>\n",
       "    /* Turns off some styling */\n",
       "    progress {\n",
       "        /* gets rid of default border in Firefox and Opera. */\n",
       "        border: none;\n",
       "        /* Needs to be in here for Safari polyfill so background images work as expected. */\n",
       "        background-size: auto;\n",
       "    }\n",
       "    progress:not([value]), progress:not([value])::-webkit-progress-bar {\n",
       "        background: repeating-linear-gradient(45deg, #7e7e7e, #7e7e7e 10px, #5c5c5c 10px, #5c5c5c 20px);\n",
       "    }\n",
       "    .progress-bar-interrupted, .progress-bar-interrupted::-webkit-progress-bar {\n",
       "        background: #F44336;\n",
       "    }\n",
       "</style>\n"
      ],
      "text/plain": [
       "<IPython.core.display.HTML object>"
      ]
     },
     "metadata": {},
     "output_type": "display_data"
    },
    {
     "data": {
      "text/html": [
       "<table border=\"1\" class=\"dataframe\">\n",
       "  <thead>\n",
       "    <tr style=\"text-align: left;\">\n",
       "      <th>epoch</th>\n",
       "      <th>train_loss</th>\n",
       "      <th>valid_loss</th>\n",
       "      <th>accuracy</th>\n",
       "      <th>precision_score</th>\n",
       "      <th>recall_score</th>\n",
       "      <th>time</th>\n",
       "    </tr>\n",
       "  </thead>\n",
       "  <tbody>\n",
       "    <tr>\n",
       "      <td>0</td>\n",
       "      <td>2.078517</td>\n",
       "      <td>2.109126</td>\n",
       "      <td>0.504000</td>\n",
       "      <td>0.293830</td>\n",
       "      <td>0.304883</td>\n",
       "      <td>10:12</td>\n",
       "    </tr>\n",
       "    <tr>\n",
       "      <td>1</td>\n",
       "      <td>2.014747</td>\n",
       "      <td>2.045223</td>\n",
       "      <td>0.509000</td>\n",
       "      <td>0.301322</td>\n",
       "      <td>0.320068</td>\n",
       "      <td>10:13</td>\n",
       "    </tr>\n",
       "    <tr>\n",
       "      <td>2</td>\n",
       "      <td>1.924625</td>\n",
       "      <td>2.051094</td>\n",
       "      <td>0.497000</td>\n",
       "      <td>0.295928</td>\n",
       "      <td>0.314344</td>\n",
       "      <td>10:12</td>\n",
       "    </tr>\n",
       "    <tr>\n",
       "      <td>3</td>\n",
       "      <td>1.745123</td>\n",
       "      <td>2.039572</td>\n",
       "      <td>0.524000</td>\n",
       "      <td>0.325969</td>\n",
       "      <td>0.345962</td>\n",
       "      <td>10:14</td>\n",
       "    </tr>\n",
       "    <tr>\n",
       "      <td>4</td>\n",
       "      <td>1.441946</td>\n",
       "      <td>2.087038</td>\n",
       "      <td>0.519000</td>\n",
       "      <td>0.320270</td>\n",
       "      <td>0.328752</td>\n",
       "      <td>10:15</td>\n",
       "    </tr>\n",
       "    <tr>\n",
       "      <td>5</td>\n",
       "      <td>1.206127</td>\n",
       "      <td>2.113274</td>\n",
       "      <td>0.530000</td>\n",
       "      <td>0.346324</td>\n",
       "      <td>0.347171</td>\n",
       "      <td>10:15</td>\n",
       "    </tr>\n",
       "    <tr>\n",
       "      <td>6</td>\n",
       "      <td>0.986239</td>\n",
       "      <td>2.140767</td>\n",
       "      <td>0.529000</td>\n",
       "      <td>0.334924</td>\n",
       "      <td>0.343973</td>\n",
       "      <td>10:15</td>\n",
       "    </tr>\n",
       "    <tr>\n",
       "      <td>7</td>\n",
       "      <td>0.840243</td>\n",
       "      <td>2.166327</td>\n",
       "      <td>0.533000</td>\n",
       "      <td>0.344271</td>\n",
       "      <td>0.350544</td>\n",
       "      <td>10:14</td>\n",
       "    </tr>\n",
       "    <tr>\n",
       "      <td>8</td>\n",
       "      <td>0.721522</td>\n",
       "      <td>2.170033</td>\n",
       "      <td>0.538000</td>\n",
       "      <td>0.345912</td>\n",
       "      <td>0.354680</td>\n",
       "      <td>10:12</td>\n",
       "    </tr>\n",
       "    <tr>\n",
       "      <td>9</td>\n",
       "      <td>0.629604</td>\n",
       "      <td>2.168919</td>\n",
       "      <td>0.533000</td>\n",
       "      <td>0.337457</td>\n",
       "      <td>0.345615</td>\n",
       "      <td>10:13</td>\n",
       "    </tr>\n",
       "  </tbody>\n",
       "</table>"
      ],
      "text/plain": [
       "<IPython.core.display.HTML object>"
      ]
     },
     "metadata": {},
     "output_type": "display_data"
    },
    {
     "name": "stderr",
     "output_type": "stream",
     "text": [
      "/opt/conda/lib/python3.7/site-packages/sklearn/metrics/_classification.py:1318: UndefinedMetricWarning: Precision is ill-defined and being set to 0.0 in labels with no predicted samples. Use `zero_division` parameter to control this behavior.\n",
      "  _warn_prf(average, modifier, msg_start, len(result))\n",
      "/opt/conda/lib/python3.7/site-packages/sklearn/metrics/_classification.py:1318: UndefinedMetricWarning: Recall is ill-defined and being set to 0.0 in labels with no true samples. Use `zero_division` parameter to control this behavior.\n",
      "  _warn_prf(average, modifier, msg_start, len(result))\n",
      "/opt/conda/lib/python3.7/site-packages/sklearn/metrics/_classification.py:1318: UndefinedMetricWarning: Precision is ill-defined and being set to 0.0 in labels with no predicted samples. Use `zero_division` parameter to control this behavior.\n",
      "  _warn_prf(average, modifier, msg_start, len(result))\n",
      "/opt/conda/lib/python3.7/site-packages/sklearn/metrics/_classification.py:1318: UndefinedMetricWarning: Recall is ill-defined and being set to 0.0 in labels with no true samples. Use `zero_division` parameter to control this behavior.\n",
      "  _warn_prf(average, modifier, msg_start, len(result))\n",
      "/opt/conda/lib/python3.7/site-packages/sklearn/metrics/_classification.py:1318: UndefinedMetricWarning: Precision is ill-defined and being set to 0.0 in labels with no predicted samples. Use `zero_division` parameter to control this behavior.\n",
      "  _warn_prf(average, modifier, msg_start, len(result))\n",
      "/opt/conda/lib/python3.7/site-packages/sklearn/metrics/_classification.py:1318: UndefinedMetricWarning: Recall is ill-defined and being set to 0.0 in labels with no true samples. Use `zero_division` parameter to control this behavior.\n",
      "  _warn_prf(average, modifier, msg_start, len(result))\n",
      "/opt/conda/lib/python3.7/site-packages/sklearn/metrics/_classification.py:1318: UndefinedMetricWarning: Precision is ill-defined and being set to 0.0 in labels with no predicted samples. Use `zero_division` parameter to control this behavior.\n",
      "  _warn_prf(average, modifier, msg_start, len(result))\n",
      "/opt/conda/lib/python3.7/site-packages/sklearn/metrics/_classification.py:1318: UndefinedMetricWarning: Recall is ill-defined and being set to 0.0 in labels with no true samples. Use `zero_division` parameter to control this behavior.\n",
      "  _warn_prf(average, modifier, msg_start, len(result))\n",
      "/opt/conda/lib/python3.7/site-packages/sklearn/metrics/_classification.py:1318: UndefinedMetricWarning: Precision is ill-defined and being set to 0.0 in labels with no predicted samples. Use `zero_division` parameter to control this behavior.\n",
      "  _warn_prf(average, modifier, msg_start, len(result))\n",
      "/opt/conda/lib/python3.7/site-packages/sklearn/metrics/_classification.py:1318: UndefinedMetricWarning: Recall is ill-defined and being set to 0.0 in labels with no true samples. Use `zero_division` parameter to control this behavior.\n",
      "  _warn_prf(average, modifier, msg_start, len(result))\n",
      "/opt/conda/lib/python3.7/site-packages/sklearn/metrics/_classification.py:1318: UndefinedMetricWarning: Precision is ill-defined and being set to 0.0 in labels with no predicted samples. Use `zero_division` parameter to control this behavior.\n",
      "  _warn_prf(average, modifier, msg_start, len(result))\n",
      "/opt/conda/lib/python3.7/site-packages/sklearn/metrics/_classification.py:1318: UndefinedMetricWarning: Recall is ill-defined and being set to 0.0 in labels with no true samples. Use `zero_division` parameter to control this behavior.\n",
      "  _warn_prf(average, modifier, msg_start, len(result))\n",
      "/opt/conda/lib/python3.7/site-packages/sklearn/metrics/_classification.py:1318: UndefinedMetricWarning: Precision is ill-defined and being set to 0.0 in labels with no predicted samples. Use `zero_division` parameter to control this behavior.\n",
      "  _warn_prf(average, modifier, msg_start, len(result))\n",
      "/opt/conda/lib/python3.7/site-packages/sklearn/metrics/_classification.py:1318: UndefinedMetricWarning: Recall is ill-defined and being set to 0.0 in labels with no true samples. Use `zero_division` parameter to control this behavior.\n",
      "  _warn_prf(average, modifier, msg_start, len(result))\n",
      "/opt/conda/lib/python3.7/site-packages/sklearn/metrics/_classification.py:1318: UndefinedMetricWarning: Precision is ill-defined and being set to 0.0 in labels with no predicted samples. Use `zero_division` parameter to control this behavior.\n",
      "  _warn_prf(average, modifier, msg_start, len(result))\n",
      "/opt/conda/lib/python3.7/site-packages/sklearn/metrics/_classification.py:1318: UndefinedMetricWarning: Recall is ill-defined and being set to 0.0 in labels with no true samples. Use `zero_division` parameter to control this behavior.\n",
      "  _warn_prf(average, modifier, msg_start, len(result))\n",
      "/opt/conda/lib/python3.7/site-packages/sklearn/metrics/_classification.py:1318: UndefinedMetricWarning: Precision is ill-defined and being set to 0.0 in labels with no predicted samples. Use `zero_division` parameter to control this behavior.\n",
      "  _warn_prf(average, modifier, msg_start, len(result))\n",
      "/opt/conda/lib/python3.7/site-packages/sklearn/metrics/_classification.py:1318: UndefinedMetricWarning: Recall is ill-defined and being set to 0.0 in labels with no true samples. Use `zero_division` parameter to control this behavior.\n",
      "  _warn_prf(average, modifier, msg_start, len(result))\n",
      "/opt/conda/lib/python3.7/site-packages/sklearn/metrics/_classification.py:1318: UndefinedMetricWarning: Precision is ill-defined and being set to 0.0 in labels with no predicted samples. Use `zero_division` parameter to control this behavior.\n",
      "  _warn_prf(average, modifier, msg_start, len(result))\n",
      "/opt/conda/lib/python3.7/site-packages/sklearn/metrics/_classification.py:1318: UndefinedMetricWarning: Recall is ill-defined and being set to 0.0 in labels with no true samples. Use `zero_division` parameter to control this behavior.\n",
      "  _warn_prf(average, modifier, msg_start, len(result))\n"
     ]
    }
   ],
   "source": [
    "learner.fine_tune(10, base_lr=base_lr)"
   ]
  },
  {
   "cell_type": "markdown",
   "id": "94745e03",
   "metadata": {
    "papermill": {
     "duration": 0.067943,
     "end_time": "2023-04-09T15:04:58.744041",
     "exception": false,
     "start_time": "2023-04-09T15:04:58.676098",
     "status": "completed"
    },
    "tags": []
   },
   "source": [
    "### Error rate testing\n",
    "Testing error rates with preds and targs, then tta and targs"
   ]
  },
  {
   "cell_type": "code",
   "execution_count": 26,
   "id": "5ff45524",
   "metadata": {
    "execution": {
     "iopub.execute_input": "2023-04-09T15:04:58.780033Z",
     "iopub.status.busy": "2023-04-09T15:04:58.778891Z",
     "iopub.status.idle": "2023-04-09T15:05:11.336280Z",
     "shell.execute_reply": "2023-04-09T15:05:11.334504Z"
    },
    "papermill": {
     "duration": 12.578008,
     "end_time": "2023-04-09T15:05:11.338823",
     "exception": false,
     "start_time": "2023-04-09T15:04:58.760815",
     "status": "completed"
    },
    "tags": []
   },
   "outputs": [
    {
     "data": {
      "text/html": [
       "\n",
       "<style>\n",
       "    /* Turns off some styling */\n",
       "    progress {\n",
       "        /* gets rid of default border in Firefox and Opera. */\n",
       "        border: none;\n",
       "        /* Needs to be in here for Safari polyfill so background images work as expected. */\n",
       "        background-size: auto;\n",
       "    }\n",
       "    progress:not([value]), progress:not([value])::-webkit-progress-bar {\n",
       "        background: repeating-linear-gradient(45deg, #7e7e7e, #7e7e7e 10px, #5c5c5c 10px, #5c5c5c 20px);\n",
       "    }\n",
       "    .progress-bar-interrupted, .progress-bar-interrupted::-webkit-progress-bar {\n",
       "        background: #F44336;\n",
       "    }\n",
       "</style>\n"
      ],
      "text/plain": [
       "<IPython.core.display.HTML object>"
      ]
     },
     "metadata": {},
     "output_type": "display_data"
    },
    {
     "data": {
      "text/html": [],
      "text/plain": [
       "<IPython.core.display.HTML object>"
      ]
     },
     "metadata": {},
     "output_type": "display_data"
    },
    {
     "name": "stderr",
     "output_type": "stream",
     "text": [
      "/opt/conda/lib/python3.7/site-packages/sklearn/metrics/_classification.py:1318: UndefinedMetricWarning: Precision is ill-defined and being set to 0.0 in labels with no predicted samples. Use `zero_division` parameter to control this behavior.\n",
      "  _warn_prf(average, modifier, msg_start, len(result))\n",
      "/opt/conda/lib/python3.7/site-packages/sklearn/metrics/_classification.py:1318: UndefinedMetricWarning: Recall is ill-defined and being set to 0.0 in labels with no true samples. Use `zero_division` parameter to control this behavior.\n",
      "  _warn_prf(average, modifier, msg_start, len(result))\n"
     ]
    },
    {
     "name": "stdout",
     "output_type": "stream",
     "text": [
      "Number of validation set predictions: 1000\n",
      "Number of validation set targets: 1000\n"
     ]
    }
   ],
   "source": [
    "# Get the validation set\n",
    "valid_dl = dls.valid\n",
    "\n",
    "# Predict on the validation set\n",
    "preds, targs = learner.get_preds(dl=valid_dl)\n",
    "\n",
    "# Print the length of predictions and targets\n",
    "print(f\"Number of validation set predictions: {len(preds)}\")\n",
    "print(f\"Number of validation set targets: {len(targs)}\")"
   ]
  },
  {
   "cell_type": "code",
   "execution_count": 27,
   "id": "f8fc9b1d",
   "metadata": {
    "execution": {
     "iopub.execute_input": "2023-04-09T15:05:11.375053Z",
     "iopub.status.busy": "2023-04-09T15:05:11.374211Z",
     "iopub.status.idle": "2023-04-09T15:05:11.400709Z",
     "shell.execute_reply": "2023-04-09T15:05:11.399525Z"
    },
    "papermill": {
     "duration": 0.047104,
     "end_time": "2023-04-09T15:05:11.403051",
     "exception": false,
     "start_time": "2023-04-09T15:05:11.355947",
     "status": "completed"
    },
    "tags": []
   },
   "outputs": [
    {
     "data": {
      "text/plain": [
       "TensorBase(0.4670)"
      ]
     },
     "execution_count": 27,
     "metadata": {},
     "output_type": "execute_result"
    }
   ],
   "source": [
    "error_rate(preds, targs)"
   ]
  },
  {
   "cell_type": "code",
   "execution_count": 28,
   "id": "1ce8a4f6",
   "metadata": {
    "execution": {
     "iopub.execute_input": "2023-04-09T15:05:11.438546Z",
     "iopub.status.busy": "2023-04-09T15:05:11.438261Z",
     "iopub.status.idle": "2023-04-09T15:06:14.876206Z",
     "shell.execute_reply": "2023-04-09T15:06:14.874753Z"
    },
    "papermill": {
     "duration": 63.458297,
     "end_time": "2023-04-09T15:06:14.878574",
     "exception": false,
     "start_time": "2023-04-09T15:05:11.420277",
     "status": "completed"
    },
    "tags": []
   },
   "outputs": [
    {
     "data": {
      "text/html": [
       "\n",
       "<style>\n",
       "    /* Turns off some styling */\n",
       "    progress {\n",
       "        /* gets rid of default border in Firefox and Opera. */\n",
       "        border: none;\n",
       "        /* Needs to be in here for Safari polyfill so background images work as expected. */\n",
       "        background-size: auto;\n",
       "    }\n",
       "    progress:not([value]), progress:not([value])::-webkit-progress-bar {\n",
       "        background: repeating-linear-gradient(45deg, #7e7e7e, #7e7e7e 10px, #5c5c5c 10px, #5c5c5c 20px);\n",
       "    }\n",
       "    .progress-bar-interrupted, .progress-bar-interrupted::-webkit-progress-bar {\n",
       "        background: #F44336;\n",
       "    }\n",
       "</style>\n"
      ],
      "text/plain": [
       "<IPython.core.display.HTML object>"
      ]
     },
     "metadata": {},
     "output_type": "display_data"
    },
    {
     "data": {
      "text/html": [
       "\n",
       "    <div>\n",
       "      <progress value='0' class='' max='10' style='width:300px; height:20px; vertical-align: middle;'></progress>\n",
       "      \n",
       "    </div>\n",
       "    \n"
      ],
      "text/plain": [
       "<IPython.core.display.HTML object>"
      ]
     },
     "metadata": {},
     "output_type": "display_data"
    },
    {
     "data": {
      "text/html": [
       "\n",
       "<style>\n",
       "    /* Turns off some styling */\n",
       "    progress {\n",
       "        /* gets rid of default border in Firefox and Opera. */\n",
       "        border: none;\n",
       "        /* Needs to be in here for Safari polyfill so background images work as expected. */\n",
       "        background-size: auto;\n",
       "    }\n",
       "    progress:not([value]), progress:not([value])::-webkit-progress-bar {\n",
       "        background: repeating-linear-gradient(45deg, #7e7e7e, #7e7e7e 10px, #5c5c5c 10px, #5c5c5c 20px);\n",
       "    }\n",
       "    .progress-bar-interrupted, .progress-bar-interrupted::-webkit-progress-bar {\n",
       "        background: #F44336;\n",
       "    }\n",
       "</style>\n"
      ],
      "text/plain": [
       "<IPython.core.display.HTML object>"
      ]
     },
     "metadata": {},
     "output_type": "display_data"
    },
    {
     "data": {
      "text/html": [],
      "text/plain": [
       "<IPython.core.display.HTML object>"
      ]
     },
     "metadata": {},
     "output_type": "display_data"
    },
    {
     "name": "stderr",
     "output_type": "stream",
     "text": [
      "/opt/conda/lib/python3.7/site-packages/sklearn/metrics/_classification.py:1318: UndefinedMetricWarning: Precision is ill-defined and being set to 0.0 in labels with no predicted samples. Use `zero_division` parameter to control this behavior.\n",
      "  _warn_prf(average, modifier, msg_start, len(result))\n",
      "/opt/conda/lib/python3.7/site-packages/sklearn/metrics/_classification.py:1318: UndefinedMetricWarning: Recall is ill-defined and being set to 0.0 in labels with no true samples. Use `zero_division` parameter to control this behavior.\n",
      "  _warn_prf(average, modifier, msg_start, len(result))\n",
      "/opt/conda/lib/python3.7/site-packages/sklearn/metrics/_classification.py:1318: UndefinedMetricWarning: Precision is ill-defined and being set to 0.0 in labels with no predicted samples. Use `zero_division` parameter to control this behavior.\n",
      "  _warn_prf(average, modifier, msg_start, len(result))\n",
      "/opt/conda/lib/python3.7/site-packages/sklearn/metrics/_classification.py:1318: UndefinedMetricWarning: Recall is ill-defined and being set to 0.0 in labels with no true samples. Use `zero_division` parameter to control this behavior.\n",
      "  _warn_prf(average, modifier, msg_start, len(result))\n",
      "/opt/conda/lib/python3.7/site-packages/sklearn/metrics/_classification.py:1318: UndefinedMetricWarning: Precision is ill-defined and being set to 0.0 in labels with no predicted samples. Use `zero_division` parameter to control this behavior.\n",
      "  _warn_prf(average, modifier, msg_start, len(result))\n",
      "/opt/conda/lib/python3.7/site-packages/sklearn/metrics/_classification.py:1318: UndefinedMetricWarning: Recall is ill-defined and being set to 0.0 in labels with no true samples. Use `zero_division` parameter to control this behavior.\n",
      "  _warn_prf(average, modifier, msg_start, len(result))\n",
      "/opt/conda/lib/python3.7/site-packages/sklearn/metrics/_classification.py:1318: UndefinedMetricWarning: Precision is ill-defined and being set to 0.0 in labels with no predicted samples. Use `zero_division` parameter to control this behavior.\n",
      "  _warn_prf(average, modifier, msg_start, len(result))\n",
      "/opt/conda/lib/python3.7/site-packages/sklearn/metrics/_classification.py:1318: UndefinedMetricWarning: Recall is ill-defined and being set to 0.0 in labels with no true samples. Use `zero_division` parameter to control this behavior.\n",
      "  _warn_prf(average, modifier, msg_start, len(result))\n",
      "/opt/conda/lib/python3.7/site-packages/sklearn/metrics/_classification.py:1318: UndefinedMetricWarning: Precision is ill-defined and being set to 0.0 in labels with no predicted samples. Use `zero_division` parameter to control this behavior.\n",
      "  _warn_prf(average, modifier, msg_start, len(result))\n",
      "/opt/conda/lib/python3.7/site-packages/sklearn/metrics/_classification.py:1318: UndefinedMetricWarning: Recall is ill-defined and being set to 0.0 in labels with no true samples. Use `zero_division` parameter to control this behavior.\n",
      "  _warn_prf(average, modifier, msg_start, len(result))\n"
     ]
    }
   ],
   "source": [
    "tta_preds,_ = learner.tta(dl=valid_dl)"
   ]
  },
  {
   "cell_type": "code",
   "execution_count": 29,
   "id": "5288120d",
   "metadata": {
    "execution": {
     "iopub.execute_input": "2023-04-09T15:06:14.919819Z",
     "iopub.status.busy": "2023-04-09T15:06:14.918829Z",
     "iopub.status.idle": "2023-04-09T15:06:14.929275Z",
     "shell.execute_reply": "2023-04-09T15:06:14.928124Z"
    },
    "papermill": {
     "duration": 0.032938,
     "end_time": "2023-04-09T15:06:14.931732",
     "exception": false,
     "start_time": "2023-04-09T15:06:14.898794",
     "status": "completed"
    },
    "tags": []
   },
   "outputs": [
    {
     "data": {
      "text/plain": [
       "TensorBase(0.4620)"
      ]
     },
     "execution_count": 29,
     "metadata": {},
     "output_type": "execute_result"
    }
   ],
   "source": [
    "error_rate(tta_preds, targs)"
   ]
  },
  {
   "cell_type": "markdown",
   "id": "f9e76156",
   "metadata": {
    "papermill": {
     "duration": 0.018,
     "end_time": "2023-04-09T15:06:14.967704",
     "exception": false,
     "start_time": "2023-04-09T15:06:14.949704",
     "status": "completed"
    },
    "tags": []
   },
   "source": [
    "### Export the model\n",
    "Exporting the model to a file to be used in a application. \n"
   ]
  },
  {
   "cell_type": "code",
   "execution_count": 30,
   "id": "5d495348",
   "metadata": {
    "execution": {
     "iopub.execute_input": "2023-04-09T15:06:15.005513Z",
     "iopub.status.busy": "2023-04-09T15:06:15.004754Z",
     "iopub.status.idle": "2023-04-09T15:06:16.317609Z",
     "shell.execute_reply": "2023-04-09T15:06:16.316536Z"
    },
    "papermill": {
     "duration": 1.334529,
     "end_time": "2023-04-09T15:06:16.320325",
     "exception": false,
     "start_time": "2023-04-09T15:06:14.985796",
     "status": "completed"
    },
    "tags": []
   },
   "outputs": [],
   "source": [
    "learner.export(fname = '/kaggle/working/foodmodel.pkl')"
   ]
  },
  {
   "cell_type": "code",
   "execution_count": 31,
   "id": "004bceba",
   "metadata": {
    "execution": {
     "iopub.execute_input": "2023-04-09T15:06:16.358230Z",
     "iopub.status.busy": "2023-04-09T15:06:16.357921Z",
     "iopub.status.idle": "2023-04-09T15:06:16.445856Z",
     "shell.execute_reply": "2023-04-09T15:06:16.444917Z"
    },
    "papermill": {
     "duration": 0.109296,
     "end_time": "2023-04-09T15:06:16.448167",
     "exception": false,
     "start_time": "2023-04-09T15:06:16.338871",
     "status": "completed"
    },
    "tags": []
   },
   "outputs": [],
   "source": [
    "?learner.export"
   ]
  },
  {
   "cell_type": "code",
   "execution_count": 32,
   "id": "2923edac",
   "metadata": {
    "execution": {
     "iopub.execute_input": "2023-04-09T15:06:16.486358Z",
     "iopub.status.busy": "2023-04-09T15:06:16.486050Z",
     "iopub.status.idle": "2023-04-09T15:06:17.677139Z",
     "shell.execute_reply": "2023-04-09T15:06:17.675703Z"
    },
    "papermill": {
     "duration": 1.213431,
     "end_time": "2023-04-09T15:06:17.680080",
     "exception": false,
     "start_time": "2023-04-09T15:06:16.466649",
     "status": "completed"
    },
    "tags": []
   },
   "outputs": [
    {
     "name": "stdout",
     "output_type": "stream",
     "text": [
      "__notebook__.ipynb  foodmodel.pkl\r\n"
     ]
    }
   ],
   "source": [
    "!ls /kaggle/working\n"
   ]
  },
  {
   "cell_type": "markdown",
   "id": "1f67d15d",
   "metadata": {
    "papermill": {
     "duration": 0.019627,
     "end_time": "2023-04-09T15:06:17.719892",
     "exception": false,
     "start_time": "2023-04-09T15:06:17.700265",
     "status": "completed"
    },
    "tags": []
   },
   "source": [
    "### Export model to Huggingface\n",
    "Next i want to export the model to huggingface hub to be able to use it when i host my gradio app there"
   ]
  },
  {
   "cell_type": "markdown",
   "id": "0718d813",
   "metadata": {
    "papermill": {
     "duration": 0.018331,
     "end_time": "2023-04-09T15:06:17.756633",
     "exception": false,
     "start_time": "2023-04-09T15:06:17.738302",
     "status": "completed"
    },
    "tags": []
   },
   "source": [
    "Import dependencies"
   ]
  },
  {
   "cell_type": "code",
   "execution_count": 33,
   "id": "b6e30b5c",
   "metadata": {
    "execution": {
     "iopub.execute_input": "2023-04-09T15:06:17.796805Z",
     "iopub.status.busy": "2023-04-09T15:06:17.794586Z",
     "iopub.status.idle": "2023-04-09T15:06:19.606002Z",
     "shell.execute_reply": "2023-04-09T15:06:19.604665Z"
    },
    "papermill": {
     "duration": 1.834051,
     "end_time": "2023-04-09T15:06:19.608896",
     "exception": false,
     "start_time": "2023-04-09T15:06:17.774845",
     "status": "completed"
    },
    "tags": []
   },
   "outputs": [],
   "source": [
    "from datasets import DatasetDict\n",
    "from huggingface_hub import HfApi, Repository\n",
    "from kaggle_secrets import UserSecretsClient\n",
    "import os\n",
    "from huggingface_hub.utils._subprocess import run_subprocess\n",
    "import shutil"
   ]
  },
  {
   "cell_type": "markdown",
   "id": "49a409d9",
   "metadata": {
    "papermill": {
     "duration": 0.0192,
     "end_time": "2023-04-09T15:06:19.648401",
     "exception": false,
     "start_time": "2023-04-09T15:06:19.629201",
     "status": "completed"
    },
    "tags": []
   },
   "source": [
    "get token from secret and clone existing repo"
   ]
  },
  {
   "cell_type": "code",
   "execution_count": 34,
   "id": "fe44a205",
   "metadata": {
    "execution": {
     "iopub.execute_input": "2023-04-09T15:06:19.690119Z",
     "iopub.status.busy": "2023-04-09T15:06:19.688799Z",
     "iopub.status.idle": "2023-04-09T15:06:19.858629Z",
     "shell.execute_reply": "2023-04-09T15:06:19.857491Z"
    },
    "papermill": {
     "duration": 0.193728,
     "end_time": "2023-04-09T15:06:19.861162",
     "exception": false,
     "start_time": "2023-04-09T15:06:19.667434",
     "status": "completed"
    },
    "tags": []
   },
   "outputs": [],
   "source": [
    "user_secrets = UserSecretsClient()\n",
    "token = user_secrets.get_secret(\"hf-secret\")"
   ]
  },
  {
   "cell_type": "markdown",
   "id": "a44e62c8",
   "metadata": {
    "papermill": {
     "duration": 0.017711,
     "end_time": "2023-04-09T15:06:19.897283",
     "exception": false,
     "start_time": "2023-04-09T15:06:19.879572",
     "status": "completed"
    },
    "tags": []
   },
   "source": [
    "Accessing huggingface API to clone existing repo. Export model to the repository and commit and push. "
   ]
  },
  {
   "cell_type": "code",
   "execution_count": 35,
   "id": "d4c1de99",
   "metadata": {
    "execution": {
     "iopub.execute_input": "2023-04-09T15:06:19.935409Z",
     "iopub.status.busy": "2023-04-09T15:06:19.934801Z",
     "iopub.status.idle": "2023-04-09T15:09:02.892160Z",
     "shell.execute_reply": "2023-04-09T15:09:02.890805Z"
    },
    "papermill": {
     "duration": 162.979672,
     "end_time": "2023-04-09T15:09:02.894692",
     "exception": false,
     "start_time": "2023-04-09T15:06:19.915020",
     "status": "completed"
    },
    "tags": []
   },
   "outputs": [
    {
     "name": "stderr",
     "output_type": "stream",
     "text": [
      "Cloning https://huggingface.co/jaflaten/foodmodel into local empty directory.\n"
     ]
    },
    {
     "data": {
      "application/vnd.jupyter.widget-view+json": {
       "model_id": "9ffd4bca12dc4de3a4273451461b04e3",
       "version_major": 2,
       "version_minor": 0
      },
      "text/plain": [
       "Download file foodmodel-re.pkl:   0%|          | 24.0k/194M [00:00<?, ?B/s]"
      ]
     },
     "metadata": {},
     "output_type": "display_data"
    },
    {
     "data": {
      "application/vnd.jupyter.widget-view+json": {
       "model_id": "4c29ba2f0085451cb1e7902635dc6558",
       "version_major": 2,
       "version_minor": 0
      },
      "text/plain": [
       "Download file foodmodel.pkl:   0%|          | 1.40k/193M [00:00<?, ?B/s]"
      ]
     },
     "metadata": {},
     "output_type": "display_data"
    },
    {
     "data": {
      "application/vnd.jupyter.widget-view+json": {
       "model_id": "c870c43b168d45688e36de064fbc524a",
       "version_major": 2,
       "version_minor": 0
      },
      "text/plain": [
       "Clean file foodmodel-re.pkl:   0%|          | 1.00k/194M [00:00<?, ?B/s]"
      ]
     },
     "metadata": {},
     "output_type": "display_data"
    },
    {
     "data": {
      "application/vnd.jupyter.widget-view+json": {
       "model_id": "8ee08d016eda405a8a89021fff79c1b7",
       "version_major": 2,
       "version_minor": 0
      },
      "text/plain": [
       "Clean file foodmodel.pkl:   0%|          | 1.00k/193M [00:00<?, ?B/s]"
      ]
     },
     "metadata": {},
     "output_type": "display_data"
    },
    {
     "name": "stdout",
     "output_type": "stream",
     "text": [
      "Files in the 'foodmodel' directory:\n",
      "['foodmodel', '__notebook__.ipynb']\n",
      "\n",
      "Git status:\n",
      "On branch main\n",
      "Your branch is up to date with 'origin/main'.\n",
      "\n",
      "Changes to be committed:\n",
      "  (use \"git restore --staged <file>...\" to unstage)\n",
      "\tmodified:   foodmodel.pkl\n",
      "\n",
      "\n"
     ]
    },
    {
     "data": {
      "application/vnd.jupyter.widget-view+json": {
       "model_id": "a19d14eff35e4aebbdcfe51126942e24",
       "version_major": 2,
       "version_minor": 0
      },
      "text/plain": [
       "Upload file foodmodel.pkl:   0%|          | 1.00/757M [00:00<?, ?B/s]"
      ]
     },
     "metadata": {},
     "output_type": "display_data"
    },
    {
     "name": "stderr",
     "output_type": "stream",
     "text": [
      "To https://huggingface.co/jaflaten/foodmodel\n",
      "   e87cc52..cacd6d8  main -> main\n",
      "\n"
     ]
    },
    {
     "data": {
      "text/plain": [
       "'https://huggingface.co/jaflaten/foodmodel/commit/cacd6d89506a39041a07ca781b374820efae32d3'"
      ]
     },
     "execution_count": 35,
     "metadata": {},
     "output_type": "execute_result"
    }
   ],
   "source": [
    "\n",
    "hf_api = HfApi()\n",
    "#repo_url = hf_api.create_repo(token, \"foodmodel-hf\")\n",
    "repo_id = \"jaflaten/foodmodel\"\n",
    "repo = Repository(\"foodmodel\", clone_from=repo_id, repo_type=\"model\", use_auth_token=token)\n",
    "learner.export(fname = 'foodmodel.pkl')\n",
    "\n",
    "\n",
    "# Move the foodmodel.pkl file to the cloned repository directory\n",
    "shutil.move('foodmodel.pkl', os.path.join(repo.local_dir, 'foodmodel.pkl'))\n",
    "\n",
    "# Check if the file is created\n",
    "print(\"Files in the 'foodmodel' directory:\")\n",
    "print(os.listdir())\n",
    "\n",
    "\n",
    "\n",
    "# Add and commit the changes\n",
    "repo.git_add(pattern=\"*\")\n",
    "\n",
    "# Check the git status\n",
    "print(\"\\nGit status:\")\n",
    "print(run_subprocess([\"git\", \"status\"], repo.local_dir).stdout)\n",
    "\n",
    "repo.git_commit(\"Kaggle built and exported foodmodel.pkl\")\n",
    "repo.git_push()\n"
   ]
  }
 ],
 "metadata": {
  "kernelspec": {
   "display_name": "Python 3",
   "language": "python",
   "name": "python3"
  },
  "language_info": {
   "codemirror_mode": {
    "name": "ipython",
    "version": 3
   },
   "file_extension": ".py",
   "mimetype": "text/x-python",
   "name": "python",
   "nbconvert_exporter": "python",
   "pygments_lexer": "ipython3",
   "version": "3.7.12"
  },
  "papermill": {
   "default_parameters": {},
   "duration": 7161.734481,
   "end_time": "2023-04-09T15:09:06.509367",
   "environment_variables": {},
   "exception": null,
   "input_path": "__notebook__.ipynb",
   "output_path": "__notebook__.ipynb",
   "parameters": {},
   "start_time": "2023-04-09T13:09:44.774886",
   "version": "2.4.0"
  },
  "widgets": {
   "application/vnd.jupyter.widget-state+json": {
    "state": {
     "0817acf6ef144909848115d27935dec6": {
      "model_module": "@jupyter-widgets/controls",
      "model_module_version": "1.5.0",
      "model_name": "DescriptionStyleModel",
      "state": {
       "_model_module": "@jupyter-widgets/controls",
       "_model_module_version": "1.5.0",
       "_model_name": "DescriptionStyleModel",
       "_view_count": null,
       "_view_module": "@jupyter-widgets/base",
       "_view_module_version": "1.2.0",
       "_view_name": "StyleView",
       "description_width": ""
      }
     },
     "0b5dc933f2cf4c1188de7f475f813058": {
      "model_module": "@jupyter-widgets/controls",
      "model_module_version": "1.5.0",
      "model_name": "DescriptionStyleModel",
      "state": {
       "_model_module": "@jupyter-widgets/controls",
       "_model_module_version": "1.5.0",
       "_model_name": "DescriptionStyleModel",
       "_view_count": null,
       "_view_module": "@jupyter-widgets/base",
       "_view_module_version": "1.2.0",
       "_view_name": "StyleView",
       "description_width": ""
      }
     },
     "0e5f9523d5f04b1ba3b7cbb47b9a9a3b": {
      "model_module": "@jupyter-widgets/controls",
      "model_module_version": "1.5.0",
      "model_name": "DescriptionStyleModel",
      "state": {
       "_model_module": "@jupyter-widgets/controls",
       "_model_module_version": "1.5.0",
       "_model_name": "DescriptionStyleModel",
       "_view_count": null,
       "_view_module": "@jupyter-widgets/base",
       "_view_module_version": "1.2.0",
       "_view_name": "StyleView",
       "description_width": ""
      }
     },
     "2bc23f725e1648cea8ef4c89df4ebaa8": {
      "model_module": "@jupyter-widgets/controls",
      "model_module_version": "1.5.0",
      "model_name": "HTMLModel",
      "state": {
       "_dom_classes": [],
       "_model_module": "@jupyter-widgets/controls",
       "_model_module_version": "1.5.0",
       "_model_name": "HTMLModel",
       "_view_count": null,
       "_view_module": "@jupyter-widgets/controls",
       "_view_module_version": "1.5.0",
       "_view_name": "HTMLView",
       "description": "",
       "description_tooltip": null,
       "layout": "IPY_MODEL_5540653c06f44839bf0d1424dc353f32",
       "placeholder": "​",
       "style": "IPY_MODEL_3c38cc23f00641b0b5f9d4c526c5aa19",
       "value": " 194M/194M [01:54&lt;00:00, 193kB/s]"
      }
     },
     "2dbc22c95f784e93b57aed03048e76ef": {
      "model_module": "@jupyter-widgets/base",
      "model_module_version": "1.2.0",
      "model_name": "LayoutModel",
      "state": {
       "_model_module": "@jupyter-widgets/base",
       "_model_module_version": "1.2.0",
       "_model_name": "LayoutModel",
       "_view_count": null,
       "_view_module": "@jupyter-widgets/base",
       "_view_module_version": "1.2.0",
       "_view_name": "LayoutView",
       "align_content": null,
       "align_items": null,
       "align_self": null,
       "border": null,
       "bottom": null,
       "display": null,
       "flex": null,
       "flex_flow": null,
       "grid_area": null,
       "grid_auto_columns": null,
       "grid_auto_flow": null,
       "grid_auto_rows": null,
       "grid_column": null,
       "grid_gap": null,
       "grid_row": null,
       "grid_template_areas": null,
       "grid_template_columns": null,
       "grid_template_rows": null,
       "height": null,
       "justify_content": null,
       "justify_items": null,
       "left": null,
       "margin": null,
       "max_height": null,
       "max_width": null,
       "min_height": null,
       "min_width": null,
       "object_fit": null,
       "object_position": null,
       "order": null,
       "overflow": null,
       "overflow_x": null,
       "overflow_y": null,
       "padding": null,
       "right": null,
       "top": null,
       "visibility": null,
       "width": null
      }
     },
     "2fee5396d99847dc969329fa838361a9": {
      "model_module": "@jupyter-widgets/controls",
      "model_module_version": "1.5.0",
      "model_name": "ProgressStyleModel",
      "state": {
       "_model_module": "@jupyter-widgets/controls",
       "_model_module_version": "1.5.0",
       "_model_name": "ProgressStyleModel",
       "_view_count": null,
       "_view_module": "@jupyter-widgets/base",
       "_view_module_version": "1.2.0",
       "_view_name": "StyleView",
       "bar_color": null,
       "description_width": ""
      }
     },
     "328a6dba69f040aca1acddcb8e398bb0": {
      "model_module": "@jupyter-widgets/controls",
      "model_module_version": "1.5.0",
      "model_name": "DescriptionStyleModel",
      "state": {
       "_model_module": "@jupyter-widgets/controls",
       "_model_module_version": "1.5.0",
       "_model_name": "DescriptionStyleModel",
       "_view_count": null,
       "_view_module": "@jupyter-widgets/base",
       "_view_module_version": "1.2.0",
       "_view_name": "StyleView",
       "description_width": ""
      }
     },
     "332de03ae79a4d2b82ae167d37f60888": {
      "model_module": "@jupyter-widgets/base",
      "model_module_version": "1.2.0",
      "model_name": "LayoutModel",
      "state": {
       "_model_module": "@jupyter-widgets/base",
       "_model_module_version": "1.2.0",
       "_model_name": "LayoutModel",
       "_view_count": null,
       "_view_module": "@jupyter-widgets/base",
       "_view_module_version": "1.2.0",
       "_view_name": "LayoutView",
       "align_content": null,
       "align_items": null,
       "align_self": null,
       "border": null,
       "bottom": null,
       "display": null,
       "flex": null,
       "flex_flow": null,
       "grid_area": null,
       "grid_auto_columns": null,
       "grid_auto_flow": null,
       "grid_auto_rows": null,
       "grid_column": null,
       "grid_gap": null,
       "grid_row": null,
       "grid_template_areas": null,
       "grid_template_columns": null,
       "grid_template_rows": null,
       "height": null,
       "justify_content": null,
       "justify_items": null,
       "left": null,
       "margin": null,
       "max_height": null,
       "max_width": null,
       "min_height": null,
       "min_width": null,
       "object_fit": null,
       "object_position": null,
       "order": null,
       "overflow": null,
       "overflow_x": null,
       "overflow_y": null,
       "padding": null,
       "right": null,
       "top": null,
       "visibility": null,
       "width": null
      }
     },
     "3339c58f1d104f7fad438ff95f8aeea3": {
      "model_module": "@jupyter-widgets/controls",
      "model_module_version": "1.5.0",
      "model_name": "FloatProgressModel",
      "state": {
       "_dom_classes": [],
       "_model_module": "@jupyter-widgets/controls",
       "_model_module_version": "1.5.0",
       "_model_name": "FloatProgressModel",
       "_view_count": null,
       "_view_module": "@jupyter-widgets/controls",
       "_view_module_version": "1.5.0",
       "_view_name": "ProgressView",
       "bar_style": "success",
       "description": "",
       "description_tooltip": null,
       "layout": "IPY_MODEL_51a4274c9dc74d8c8e0bd9039ca4629b",
       "max": 202950085.0,
       "min": 0.0,
       "orientation": "horizontal",
       "style": "IPY_MODEL_da523c7cc816486aa2c89d7acfdbdcdd",
       "value": 202950085.0
      }
     },
     "3718170caff4434c81bb2862963e0e10": {
      "model_module": "@jupyter-widgets/controls",
      "model_module_version": "1.5.0",
      "model_name": "HTMLModel",
      "state": {
       "_dom_classes": [],
       "_model_module": "@jupyter-widgets/controls",
       "_model_module_version": "1.5.0",
       "_model_name": "HTMLModel",
       "_view_count": null,
       "_view_module": "@jupyter-widgets/controls",
       "_view_module_version": "1.5.0",
       "_view_name": "HTMLView",
       "description": "",
       "description_tooltip": null,
       "layout": "IPY_MODEL_2dbc22c95f784e93b57aed03048e76ef",
       "placeholder": "​",
       "style": "IPY_MODEL_c10e4bf0600e451da91eef77d8e3c36c",
       "value": " 757M/757M [00:31&lt;00:00, 26.7MB/s]"
      }
     },
     "38e0c2820ab94e4f8af76a6c8f551de8": {
      "model_module": "@jupyter-widgets/controls",
      "model_module_version": "1.5.0",
      "model_name": "FloatProgressModel",
      "state": {
       "_dom_classes": [],
       "_model_module": "@jupyter-widgets/controls",
       "_model_module_version": "1.5.0",
       "_model_name": "FloatProgressModel",
       "_view_count": null,
       "_view_module": "@jupyter-widgets/controls",
       "_view_module_version": "1.5.0",
       "_view_name": "ProgressView",
       "bar_style": "success",
       "description": "",
       "description_tooltip": null,
       "layout": "IPY_MODEL_3ef3eb5a37ec49c3a735b08a1f734d15",
       "max": 202846661.0,
       "min": 0.0,
       "orientation": "horizontal",
       "style": "IPY_MODEL_94dd52e53c8c4ccd8ca90cc9cc3ba2dd",
       "value": 202846661.0
      }
     },
     "3c38cc23f00641b0b5f9d4c526c5aa19": {
      "model_module": "@jupyter-widgets/controls",
      "model_module_version": "1.5.0",
      "model_name": "DescriptionStyleModel",
      "state": {
       "_model_module": "@jupyter-widgets/controls",
       "_model_module_version": "1.5.0",
       "_model_name": "DescriptionStyleModel",
       "_view_count": null,
       "_view_module": "@jupyter-widgets/base",
       "_view_module_version": "1.2.0",
       "_view_name": "StyleView",
       "description_width": ""
      }
     },
     "3ef3eb5a37ec49c3a735b08a1f734d15": {
      "model_module": "@jupyter-widgets/base",
      "model_module_version": "1.2.0",
      "model_name": "LayoutModel",
      "state": {
       "_model_module": "@jupyter-widgets/base",
       "_model_module_version": "1.2.0",
       "_model_name": "LayoutModel",
       "_view_count": null,
       "_view_module": "@jupyter-widgets/base",
       "_view_module_version": "1.2.0",
       "_view_name": "LayoutView",
       "align_content": null,
       "align_items": null,
       "align_self": null,
       "border": null,
       "bottom": null,
       "display": null,
       "flex": null,
       "flex_flow": null,
       "grid_area": null,
       "grid_auto_columns": null,
       "grid_auto_flow": null,
       "grid_auto_rows": null,
       "grid_column": null,
       "grid_gap": null,
       "grid_row": null,
       "grid_template_areas": null,
       "grid_template_columns": null,
       "grid_template_rows": null,
       "height": null,
       "justify_content": null,
       "justify_items": null,
       "left": null,
       "margin": null,
       "max_height": null,
       "max_width": null,
       "min_height": null,
       "min_width": null,
       "object_fit": null,
       "object_position": null,
       "order": null,
       "overflow": null,
       "overflow_x": null,
       "overflow_y": null,
       "padding": null,
       "right": null,
       "top": null,
       "visibility": null,
       "width": null
      }
     },
     "40ca9900e398410ba1ab37addb13b055": {
      "model_module": "@jupyter-widgets/controls",
      "model_module_version": "1.5.0",
      "model_name": "DescriptionStyleModel",
      "state": {
       "_model_module": "@jupyter-widgets/controls",
       "_model_module_version": "1.5.0",
       "_model_name": "DescriptionStyleModel",
       "_view_count": null,
       "_view_module": "@jupyter-widgets/base",
       "_view_module_version": "1.2.0",
       "_view_name": "StyleView",
       "description_width": ""
      }
     },
     "4c29ba2f0085451cb1e7902635dc6558": {
      "model_module": "@jupyter-widgets/controls",
      "model_module_version": "1.5.0",
      "model_name": "HBoxModel",
      "state": {
       "_dom_classes": [],
       "_model_module": "@jupyter-widgets/controls",
       "_model_module_version": "1.5.0",
       "_model_name": "HBoxModel",
       "_view_count": null,
       "_view_module": "@jupyter-widgets/controls",
       "_view_module_version": "1.5.0",
       "_view_name": "HBoxView",
       "box_style": "",
       "children": [
        "IPY_MODEL_8fe1e7497c0a4fa0bcb0415cf4eabcef",
        "IPY_MODEL_7ac3e08083d94ad38d0abc0325f6f981",
        "IPY_MODEL_b198106163ca4d6292f70d03c13a7f18"
       ],
       "layout": "IPY_MODEL_ea4880d5bc314f3e830d8fd0c964ae7f"
      }
     },
     "4d3a59f66d7a4fb2bcdc40737101342e": {
      "model_module": "@jupyter-widgets/controls",
      "model_module_version": "1.5.0",
      "model_name": "HTMLModel",
      "state": {
       "_dom_classes": [],
       "_model_module": "@jupyter-widgets/controls",
       "_model_module_version": "1.5.0",
       "_model_name": "HTMLModel",
       "_view_count": null,
       "_view_module": "@jupyter-widgets/controls",
       "_view_module_version": "1.5.0",
       "_view_name": "HTMLView",
       "description": "",
       "description_tooltip": null,
       "layout": "IPY_MODEL_332de03ae79a4d2b82ae167d37f60888",
       "placeholder": "​",
       "style": "IPY_MODEL_be9cb88571f642b987f95848d88c2ef4",
       "value": "Clean file foodmodel.pkl: 100%"
      }
     },
     "51a4274c9dc74d8c8e0bd9039ca4629b": {
      "model_module": "@jupyter-widgets/base",
      "model_module_version": "1.2.0",
      "model_name": "LayoutModel",
      "state": {
       "_model_module": "@jupyter-widgets/base",
       "_model_module_version": "1.2.0",
       "_model_name": "LayoutModel",
       "_view_count": null,
       "_view_module": "@jupyter-widgets/base",
       "_view_module_version": "1.2.0",
       "_view_name": "LayoutView",
       "align_content": null,
       "align_items": null,
       "align_self": null,
       "border": null,
       "bottom": null,
       "display": null,
       "flex": null,
       "flex_flow": null,
       "grid_area": null,
       "grid_auto_columns": null,
       "grid_auto_flow": null,
       "grid_auto_rows": null,
       "grid_column": null,
       "grid_gap": null,
       "grid_row": null,
       "grid_template_areas": null,
       "grid_template_columns": null,
       "grid_template_rows": null,
       "height": null,
       "justify_content": null,
       "justify_items": null,
       "left": null,
       "margin": null,
       "max_height": null,
       "max_width": null,
       "min_height": null,
       "min_width": null,
       "object_fit": null,
       "object_position": null,
       "order": null,
       "overflow": null,
       "overflow_x": null,
       "overflow_y": null,
       "padding": null,
       "right": null,
       "top": null,
       "visibility": null,
       "width": null
      }
     },
     "5540653c06f44839bf0d1424dc353f32": {
      "model_module": "@jupyter-widgets/base",
      "model_module_version": "1.2.0",
      "model_name": "LayoutModel",
      "state": {
       "_model_module": "@jupyter-widgets/base",
       "_model_module_version": "1.2.0",
       "_model_name": "LayoutModel",
       "_view_count": null,
       "_view_module": "@jupyter-widgets/base",
       "_view_module_version": "1.2.0",
       "_view_name": "LayoutView",
       "align_content": null,
       "align_items": null,
       "align_self": null,
       "border": null,
       "bottom": null,
       "display": null,
       "flex": null,
       "flex_flow": null,
       "grid_area": null,
       "grid_auto_columns": null,
       "grid_auto_flow": null,
       "grid_auto_rows": null,
       "grid_column": null,
       "grid_gap": null,
       "grid_row": null,
       "grid_template_areas": null,
       "grid_template_columns": null,
       "grid_template_rows": null,
       "height": null,
       "justify_content": null,
       "justify_items": null,
       "left": null,
       "margin": null,
       "max_height": null,
       "max_width": null,
       "min_height": null,
       "min_width": null,
       "object_fit": null,
       "object_position": null,
       "order": null,
       "overflow": null,
       "overflow_x": null,
       "overflow_y": null,
       "padding": null,
       "right": null,
       "top": null,
       "visibility": null,
       "width": null
      }
     },
     "58367838185a4e3cab3d2d034feeb116": {
      "model_module": "@jupyter-widgets/base",
      "model_module_version": "1.2.0",
      "model_name": "LayoutModel",
      "state": {
       "_model_module": "@jupyter-widgets/base",
       "_model_module_version": "1.2.0",
       "_model_name": "LayoutModel",
       "_view_count": null,
       "_view_module": "@jupyter-widgets/base",
       "_view_module_version": "1.2.0",
       "_view_name": "LayoutView",
       "align_content": null,
       "align_items": null,
       "align_self": null,
       "border": null,
       "bottom": null,
       "display": null,
       "flex": null,
       "flex_flow": null,
       "grid_area": null,
       "grid_auto_columns": null,
       "grid_auto_flow": null,
       "grid_auto_rows": null,
       "grid_column": null,
       "grid_gap": null,
       "grid_row": null,
       "grid_template_areas": null,
       "grid_template_columns": null,
       "grid_template_rows": null,
       "height": null,
       "justify_content": null,
       "justify_items": null,
       "left": null,
       "margin": null,
       "max_height": null,
       "max_width": null,
       "min_height": null,
       "min_width": null,
       "object_fit": null,
       "object_position": null,
       "order": null,
       "overflow": null,
       "overflow_x": null,
       "overflow_y": null,
       "padding": null,
       "right": null,
       "top": null,
       "visibility": null,
       "width": null
      }
     },
     "59bc83d46e4d4f28bfb8c30a6616602a": {
      "model_module": "@jupyter-widgets/base",
      "model_module_version": "1.2.0",
      "model_name": "LayoutModel",
      "state": {
       "_model_module": "@jupyter-widgets/base",
       "_model_module_version": "1.2.0",
       "_model_name": "LayoutModel",
       "_view_count": null,
       "_view_module": "@jupyter-widgets/base",
       "_view_module_version": "1.2.0",
       "_view_name": "LayoutView",
       "align_content": null,
       "align_items": null,
       "align_self": null,
       "border": null,
       "bottom": null,
       "display": null,
       "flex": null,
       "flex_flow": null,
       "grid_area": null,
       "grid_auto_columns": null,
       "grid_auto_flow": null,
       "grid_auto_rows": null,
       "grid_column": null,
       "grid_gap": null,
       "grid_row": null,
       "grid_template_areas": null,
       "grid_template_columns": null,
       "grid_template_rows": null,
       "height": null,
       "justify_content": null,
       "justify_items": null,
       "left": null,
       "margin": null,
       "max_height": null,
       "max_width": null,
       "min_height": null,
       "min_width": null,
       "object_fit": null,
       "object_position": null,
       "order": null,
       "overflow": null,
       "overflow_x": null,
       "overflow_y": null,
       "padding": null,
       "right": null,
       "top": null,
       "visibility": null,
       "width": null
      }
     },
     "611250ae9bd54589a58d9b9a8b4ad835": {
      "model_module": "@jupyter-widgets/base",
      "model_module_version": "1.2.0",
      "model_name": "LayoutModel",
      "state": {
       "_model_module": "@jupyter-widgets/base",
       "_model_module_version": "1.2.0",
       "_model_name": "LayoutModel",
       "_view_count": null,
       "_view_module": "@jupyter-widgets/base",
       "_view_module_version": "1.2.0",
       "_view_name": "LayoutView",
       "align_content": null,
       "align_items": null,
       "align_self": null,
       "border": null,
       "bottom": null,
       "display": null,
       "flex": null,
       "flex_flow": null,
       "grid_area": null,
       "grid_auto_columns": null,
       "grid_auto_flow": null,
       "grid_auto_rows": null,
       "grid_column": null,
       "grid_gap": null,
       "grid_row": null,
       "grid_template_areas": null,
       "grid_template_columns": null,
       "grid_template_rows": null,
       "height": null,
       "justify_content": null,
       "justify_items": null,
       "left": null,
       "margin": null,
       "max_height": null,
       "max_width": null,
       "min_height": null,
       "min_width": null,
       "object_fit": null,
       "object_position": null,
       "order": null,
       "overflow": null,
       "overflow_x": null,
       "overflow_y": null,
       "padding": null,
       "right": null,
       "top": null,
       "visibility": null,
       "width": null
      }
     },
     "68b383968b6a4d7396dd0acfb2166d4b": {
      "model_module": "@jupyter-widgets/base",
      "model_module_version": "1.2.0",
      "model_name": "LayoutModel",
      "state": {
       "_model_module": "@jupyter-widgets/base",
       "_model_module_version": "1.2.0",
       "_model_name": "LayoutModel",
       "_view_count": null,
       "_view_module": "@jupyter-widgets/base",
       "_view_module_version": "1.2.0",
       "_view_name": "LayoutView",
       "align_content": null,
       "align_items": null,
       "align_self": null,
       "border": null,
       "bottom": null,
       "display": null,
       "flex": null,
       "flex_flow": null,
       "grid_area": null,
       "grid_auto_columns": null,
       "grid_auto_flow": null,
       "grid_auto_rows": null,
       "grid_column": null,
       "grid_gap": null,
       "grid_row": null,
       "grid_template_areas": null,
       "grid_template_columns": null,
       "grid_template_rows": null,
       "height": null,
       "justify_content": null,
       "justify_items": null,
       "left": null,
       "margin": null,
       "max_height": null,
       "max_width": null,
       "min_height": null,
       "min_width": null,
       "object_fit": null,
       "object_position": null,
       "order": null,
       "overflow": null,
       "overflow_x": null,
       "overflow_y": null,
       "padding": null,
       "right": null,
       "top": null,
       "visibility": null,
       "width": null
      }
     },
     "69b633da460d4c53ae940b596664beb2": {
      "model_module": "@jupyter-widgets/base",
      "model_module_version": "1.2.0",
      "model_name": "LayoutModel",
      "state": {
       "_model_module": "@jupyter-widgets/base",
       "_model_module_version": "1.2.0",
       "_model_name": "LayoutModel",
       "_view_count": null,
       "_view_module": "@jupyter-widgets/base",
       "_view_module_version": "1.2.0",
       "_view_name": "LayoutView",
       "align_content": null,
       "align_items": null,
       "align_self": null,
       "border": null,
       "bottom": null,
       "display": null,
       "flex": null,
       "flex_flow": null,
       "grid_area": null,
       "grid_auto_columns": null,
       "grid_auto_flow": null,
       "grid_auto_rows": null,
       "grid_column": null,
       "grid_gap": null,
       "grid_row": null,
       "grid_template_areas": null,
       "grid_template_columns": null,
       "grid_template_rows": null,
       "height": null,
       "justify_content": null,
       "justify_items": null,
       "left": null,
       "margin": null,
       "max_height": null,
       "max_width": null,
       "min_height": null,
       "min_width": null,
       "object_fit": null,
       "object_position": null,
       "order": null,
       "overflow": null,
       "overflow_x": null,
       "overflow_y": null,
       "padding": null,
       "right": null,
       "top": null,
       "visibility": null,
       "width": null
      }
     },
     "7214f30c71944b218a140ecd18354852": {
      "model_module": "@jupyter-widgets/base",
      "model_module_version": "1.2.0",
      "model_name": "LayoutModel",
      "state": {
       "_model_module": "@jupyter-widgets/base",
       "_model_module_version": "1.2.0",
       "_model_name": "LayoutModel",
       "_view_count": null,
       "_view_module": "@jupyter-widgets/base",
       "_view_module_version": "1.2.0",
       "_view_name": "LayoutView",
       "align_content": null,
       "align_items": null,
       "align_self": null,
       "border": null,
       "bottom": null,
       "display": null,
       "flex": null,
       "flex_flow": null,
       "grid_area": null,
       "grid_auto_columns": null,
       "grid_auto_flow": null,
       "grid_auto_rows": null,
       "grid_column": null,
       "grid_gap": null,
       "grid_row": null,
       "grid_template_areas": null,
       "grid_template_columns": null,
       "grid_template_rows": null,
       "height": null,
       "justify_content": null,
       "justify_items": null,
       "left": null,
       "margin": null,
       "max_height": null,
       "max_width": null,
       "min_height": null,
       "min_width": null,
       "object_fit": null,
       "object_position": null,
       "order": null,
       "overflow": null,
       "overflow_x": null,
       "overflow_y": null,
       "padding": null,
       "right": null,
       "top": null,
       "visibility": null,
       "width": null
      }
     },
     "762cdd92f9994661b58cc69561560813": {
      "model_module": "@jupyter-widgets/base",
      "model_module_version": "1.2.0",
      "model_name": "LayoutModel",
      "state": {
       "_model_module": "@jupyter-widgets/base",
       "_model_module_version": "1.2.0",
       "_model_name": "LayoutModel",
       "_view_count": null,
       "_view_module": "@jupyter-widgets/base",
       "_view_module_version": "1.2.0",
       "_view_name": "LayoutView",
       "align_content": null,
       "align_items": null,
       "align_self": null,
       "border": null,
       "bottom": null,
       "display": null,
       "flex": null,
       "flex_flow": null,
       "grid_area": null,
       "grid_auto_columns": null,
       "grid_auto_flow": null,
       "grid_auto_rows": null,
       "grid_column": null,
       "grid_gap": null,
       "grid_row": null,
       "grid_template_areas": null,
       "grid_template_columns": null,
       "grid_template_rows": null,
       "height": null,
       "justify_content": null,
       "justify_items": null,
       "left": null,
       "margin": null,
       "max_height": null,
       "max_width": null,
       "min_height": null,
       "min_width": null,
       "object_fit": null,
       "object_position": null,
       "order": null,
       "overflow": null,
       "overflow_x": null,
       "overflow_y": null,
       "padding": null,
       "right": null,
       "top": null,
       "visibility": null,
       "width": null
      }
     },
     "7ac3e08083d94ad38d0abc0325f6f981": {
      "model_module": "@jupyter-widgets/controls",
      "model_module_version": "1.5.0",
      "model_name": "FloatProgressModel",
      "state": {
       "_dom_classes": [],
       "_model_module": "@jupyter-widgets/controls",
       "_model_module_version": "1.5.0",
       "_model_name": "FloatProgressModel",
       "_view_count": null,
       "_view_module": "@jupyter-widgets/controls",
       "_view_module_version": "1.5.0",
       "_view_name": "ProgressView",
       "bar_style": "success",
       "description": "",
       "description_tooltip": null,
       "layout": "IPY_MODEL_762cdd92f9994661b58cc69561560813",
       "max": 202846661.0,
       "min": 0.0,
       "orientation": "horizontal",
       "style": "IPY_MODEL_a15e5237c3da4a5db8f0dddae0cec8d6",
       "value": 202846661.0
      }
     },
     "889d2fcd649847de9ec19e02f4f91d14": {
      "model_module": "@jupyter-widgets/base",
      "model_module_version": "1.2.0",
      "model_name": "LayoutModel",
      "state": {
       "_model_module": "@jupyter-widgets/base",
       "_model_module_version": "1.2.0",
       "_model_name": "LayoutModel",
       "_view_count": null,
       "_view_module": "@jupyter-widgets/base",
       "_view_module_version": "1.2.0",
       "_view_name": "LayoutView",
       "align_content": null,
       "align_items": null,
       "align_self": null,
       "border": null,
       "bottom": null,
       "display": null,
       "flex": null,
       "flex_flow": null,
       "grid_area": null,
       "grid_auto_columns": null,
       "grid_auto_flow": null,
       "grid_auto_rows": null,
       "grid_column": null,
       "grid_gap": null,
       "grid_row": null,
       "grid_template_areas": null,
       "grid_template_columns": null,
       "grid_template_rows": null,
       "height": null,
       "justify_content": null,
       "justify_items": null,
       "left": null,
       "margin": null,
       "max_height": null,
       "max_width": null,
       "min_height": null,
       "min_width": null,
       "object_fit": null,
       "object_position": null,
       "order": null,
       "overflow": null,
       "overflow_x": null,
       "overflow_y": null,
       "padding": null,
       "right": null,
       "top": null,
       "visibility": null,
       "width": null
      }
     },
     "8bb111bd91994ea2b6ef6f5282ca8dbe": {
      "model_module": "@jupyter-widgets/controls",
      "model_module_version": "1.5.0",
      "model_name": "ProgressStyleModel",
      "state": {
       "_model_module": "@jupyter-widgets/controls",
       "_model_module_version": "1.5.0",
       "_model_name": "ProgressStyleModel",
       "_view_count": null,
       "_view_module": "@jupyter-widgets/base",
       "_view_module_version": "1.2.0",
       "_view_name": "StyleView",
       "bar_color": null,
       "description_width": ""
      }
     },
     "8ee08d016eda405a8a89021fff79c1b7": {
      "model_module": "@jupyter-widgets/controls",
      "model_module_version": "1.5.0",
      "model_name": "HBoxModel",
      "state": {
       "_dom_classes": [],
       "_model_module": "@jupyter-widgets/controls",
       "_model_module_version": "1.5.0",
       "_model_name": "HBoxModel",
       "_view_count": null,
       "_view_module": "@jupyter-widgets/controls",
       "_view_module_version": "1.5.0",
       "_view_name": "HBoxView",
       "box_style": "",
       "children": [
        "IPY_MODEL_4d3a59f66d7a4fb2bcdc40737101342e",
        "IPY_MODEL_38e0c2820ab94e4f8af76a6c8f551de8",
        "IPY_MODEL_c03c5b664dee4b148bb46c3352395a62"
       ],
       "layout": "IPY_MODEL_bc2b431f6d3d42e08dc57a77fcdbce0f"
      }
     },
     "8fe1e7497c0a4fa0bcb0415cf4eabcef": {
      "model_module": "@jupyter-widgets/controls",
      "model_module_version": "1.5.0",
      "model_name": "HTMLModel",
      "state": {
       "_dom_classes": [],
       "_model_module": "@jupyter-widgets/controls",
       "_model_module_version": "1.5.0",
       "_model_name": "HTMLModel",
       "_view_count": null,
       "_view_module": "@jupyter-widgets/controls",
       "_view_module_version": "1.5.0",
       "_view_name": "HTMLView",
       "description": "",
       "description_tooltip": null,
       "layout": "IPY_MODEL_d10e22aabf544615a6c7d9b569816f00",
       "placeholder": "​",
       "style": "IPY_MODEL_40ca9900e398410ba1ab37addb13b055",
       "value": "Download file foodmodel.pkl: 100%"
      }
     },
     "9009cdce9c9a4c04b4259b5119be1c9a": {
      "model_module": "@jupyter-widgets/controls",
      "model_module_version": "1.5.0",
      "model_name": "HTMLModel",
      "state": {
       "_dom_classes": [],
       "_model_module": "@jupyter-widgets/controls",
       "_model_module_version": "1.5.0",
       "_model_name": "HTMLModel",
       "_view_count": null,
       "_view_module": "@jupyter-widgets/controls",
       "_view_module_version": "1.5.0",
       "_view_name": "HTMLView",
       "description": "",
       "description_tooltip": null,
       "layout": "IPY_MODEL_ef34a09bcbf6408f9e3199e1cebc8dac",
       "placeholder": "​",
       "style": "IPY_MODEL_0817acf6ef144909848115d27935dec6",
       "value": "Upload file foodmodel.pkl: 100%"
      }
     },
     "90de77a672dd4cf49f32d2d5e4922fdc": {
      "model_module": "@jupyter-widgets/controls",
      "model_module_version": "1.5.0",
      "model_name": "DescriptionStyleModel",
      "state": {
       "_model_module": "@jupyter-widgets/controls",
       "_model_module_version": "1.5.0",
       "_model_name": "DescriptionStyleModel",
       "_view_count": null,
       "_view_module": "@jupyter-widgets/base",
       "_view_module_version": "1.2.0",
       "_view_name": "StyleView",
       "description_width": ""
      }
     },
     "93b5f91a193d432e94d17bbc5eadc770": {
      "model_module": "@jupyter-widgets/controls",
      "model_module_version": "1.5.0",
      "model_name": "FloatProgressModel",
      "state": {
       "_dom_classes": [],
       "_model_module": "@jupyter-widgets/controls",
       "_model_module_version": "1.5.0",
       "_model_name": "FloatProgressModel",
       "_view_count": null,
       "_view_module": "@jupyter-widgets/controls",
       "_view_module_version": "1.5.0",
       "_view_name": "ProgressView",
       "bar_style": "success",
       "description": "",
       "description_tooltip": null,
       "layout": "IPY_MODEL_a911425efd9b41dbaef801eeb819d4e2",
       "max": 793468037.0,
       "min": 0.0,
       "orientation": "horizontal",
       "style": "IPY_MODEL_8bb111bd91994ea2b6ef6f5282ca8dbe",
       "value": 793468037.0
      }
     },
     "94dd52e53c8c4ccd8ca90cc9cc3ba2dd": {
      "model_module": "@jupyter-widgets/controls",
      "model_module_version": "1.5.0",
      "model_name": "ProgressStyleModel",
      "state": {
       "_model_module": "@jupyter-widgets/controls",
       "_model_module_version": "1.5.0",
       "_model_name": "ProgressStyleModel",
       "_view_count": null,
       "_view_module": "@jupyter-widgets/base",
       "_view_module_version": "1.2.0",
       "_view_name": "StyleView",
       "bar_color": null,
       "description_width": ""
      }
     },
     "9941d9fbc4b24ade86812e65c47a3979": {
      "model_module": "@jupyter-widgets/base",
      "model_module_version": "1.2.0",
      "model_name": "LayoutModel",
      "state": {
       "_model_module": "@jupyter-widgets/base",
       "_model_module_version": "1.2.0",
       "_model_name": "LayoutModel",
       "_view_count": null,
       "_view_module": "@jupyter-widgets/base",
       "_view_module_version": "1.2.0",
       "_view_name": "LayoutView",
       "align_content": null,
       "align_items": null,
       "align_self": null,
       "border": null,
       "bottom": null,
       "display": null,
       "flex": null,
       "flex_flow": null,
       "grid_area": null,
       "grid_auto_columns": null,
       "grid_auto_flow": null,
       "grid_auto_rows": null,
       "grid_column": null,
       "grid_gap": null,
       "grid_row": null,
       "grid_template_areas": null,
       "grid_template_columns": null,
       "grid_template_rows": null,
       "height": null,
       "justify_content": null,
       "justify_items": null,
       "left": null,
       "margin": null,
       "max_height": null,
       "max_width": null,
       "min_height": null,
       "min_width": null,
       "object_fit": null,
       "object_position": null,
       "order": null,
       "overflow": null,
       "overflow_x": null,
       "overflow_y": null,
       "padding": null,
       "right": null,
       "top": null,
       "visibility": null,
       "width": null
      }
     },
     "9ffd4bca12dc4de3a4273451461b04e3": {
      "model_module": "@jupyter-widgets/controls",
      "model_module_version": "1.5.0",
      "model_name": "HBoxModel",
      "state": {
       "_dom_classes": [],
       "_model_module": "@jupyter-widgets/controls",
       "_model_module_version": "1.5.0",
       "_model_name": "HBoxModel",
       "_view_count": null,
       "_view_module": "@jupyter-widgets/controls",
       "_view_module_version": "1.5.0",
       "_view_name": "HBoxView",
       "box_style": "",
       "children": [
        "IPY_MODEL_fe985346d8a94e318423951901ec4f70",
        "IPY_MODEL_3339c58f1d104f7fad438ff95f8aeea3",
        "IPY_MODEL_2bc23f725e1648cea8ef4c89df4ebaa8"
       ],
       "layout": "IPY_MODEL_9941d9fbc4b24ade86812e65c47a3979"
      }
     },
     "a15e5237c3da4a5db8f0dddae0cec8d6": {
      "model_module": "@jupyter-widgets/controls",
      "model_module_version": "1.5.0",
      "model_name": "ProgressStyleModel",
      "state": {
       "_model_module": "@jupyter-widgets/controls",
       "_model_module_version": "1.5.0",
       "_model_name": "ProgressStyleModel",
       "_view_count": null,
       "_view_module": "@jupyter-widgets/base",
       "_view_module_version": "1.2.0",
       "_view_name": "StyleView",
       "bar_color": null,
       "description_width": ""
      }
     },
     "a19d14eff35e4aebbdcfe51126942e24": {
      "model_module": "@jupyter-widgets/controls",
      "model_module_version": "1.5.0",
      "model_name": "HBoxModel",
      "state": {
       "_dom_classes": [],
       "_model_module": "@jupyter-widgets/controls",
       "_model_module_version": "1.5.0",
       "_model_name": "HBoxModel",
       "_view_count": null,
       "_view_module": "@jupyter-widgets/controls",
       "_view_module_version": "1.5.0",
       "_view_name": "HBoxView",
       "box_style": "",
       "children": [
        "IPY_MODEL_9009cdce9c9a4c04b4259b5119be1c9a",
        "IPY_MODEL_93b5f91a193d432e94d17bbc5eadc770",
        "IPY_MODEL_3718170caff4434c81bb2862963e0e10"
       ],
       "layout": "IPY_MODEL_7214f30c71944b218a140ecd18354852"
      }
     },
     "a2c724b1925d400481cc57fa06bcb163": {
      "model_module": "@jupyter-widgets/controls",
      "model_module_version": "1.5.0",
      "model_name": "DescriptionStyleModel",
      "state": {
       "_model_module": "@jupyter-widgets/controls",
       "_model_module_version": "1.5.0",
       "_model_name": "DescriptionStyleModel",
       "_view_count": null,
       "_view_module": "@jupyter-widgets/base",
       "_view_module_version": "1.2.0",
       "_view_name": "StyleView",
       "description_width": ""
      }
     },
     "a911425efd9b41dbaef801eeb819d4e2": {
      "model_module": "@jupyter-widgets/base",
      "model_module_version": "1.2.0",
      "model_name": "LayoutModel",
      "state": {
       "_model_module": "@jupyter-widgets/base",
       "_model_module_version": "1.2.0",
       "_model_name": "LayoutModel",
       "_view_count": null,
       "_view_module": "@jupyter-widgets/base",
       "_view_module_version": "1.2.0",
       "_view_name": "LayoutView",
       "align_content": null,
       "align_items": null,
       "align_self": null,
       "border": null,
       "bottom": null,
       "display": null,
       "flex": null,
       "flex_flow": null,
       "grid_area": null,
       "grid_auto_columns": null,
       "grid_auto_flow": null,
       "grid_auto_rows": null,
       "grid_column": null,
       "grid_gap": null,
       "grid_row": null,
       "grid_template_areas": null,
       "grid_template_columns": null,
       "grid_template_rows": null,
       "height": null,
       "justify_content": null,
       "justify_items": null,
       "left": null,
       "margin": null,
       "max_height": null,
       "max_width": null,
       "min_height": null,
       "min_width": null,
       "object_fit": null,
       "object_position": null,
       "order": null,
       "overflow": null,
       "overflow_x": null,
       "overflow_y": null,
       "padding": null,
       "right": null,
       "top": null,
       "visibility": null,
       "width": null
      }
     },
     "adda17394ed444e4bfe74da25a12c055": {
      "model_module": "@jupyter-widgets/controls",
      "model_module_version": "1.5.0",
      "model_name": "FloatProgressModel",
      "state": {
       "_dom_classes": [],
       "_model_module": "@jupyter-widgets/controls",
       "_model_module_version": "1.5.0",
       "_model_name": "FloatProgressModel",
       "_view_count": null,
       "_view_module": "@jupyter-widgets/controls",
       "_view_module_version": "1.5.0",
       "_view_name": "ProgressView",
       "bar_style": "success",
       "description": "",
       "description_tooltip": null,
       "layout": "IPY_MODEL_889d2fcd649847de9ec19e02f4f91d14",
       "max": 202950085.0,
       "min": 0.0,
       "orientation": "horizontal",
       "style": "IPY_MODEL_2fee5396d99847dc969329fa838361a9",
       "value": 202950085.0
      }
     },
     "b198106163ca4d6292f70d03c13a7f18": {
      "model_module": "@jupyter-widgets/controls",
      "model_module_version": "1.5.0",
      "model_name": "HTMLModel",
      "state": {
       "_dom_classes": [],
       "_model_module": "@jupyter-widgets/controls",
       "_model_module_version": "1.5.0",
       "_model_name": "HTMLModel",
       "_view_count": null,
       "_view_module": "@jupyter-widgets/controls",
       "_view_module_version": "1.5.0",
       "_view_name": "HTMLView",
       "description": "",
       "description_tooltip": null,
       "layout": "IPY_MODEL_611250ae9bd54589a58d9b9a8b4ad835",
       "placeholder": "​",
       "style": "IPY_MODEL_90de77a672dd4cf49f32d2d5e4922fdc",
       "value": " 193M/193M [01:54&lt;00:00, 164kB/s]"
      }
     },
     "ba8423918fae4b469add7606cee7ec1b": {
      "model_module": "@jupyter-widgets/base",
      "model_module_version": "1.2.0",
      "model_name": "LayoutModel",
      "state": {
       "_model_module": "@jupyter-widgets/base",
       "_model_module_version": "1.2.0",
       "_model_name": "LayoutModel",
       "_view_count": null,
       "_view_module": "@jupyter-widgets/base",
       "_view_module_version": "1.2.0",
       "_view_name": "LayoutView",
       "align_content": null,
       "align_items": null,
       "align_self": null,
       "border": null,
       "bottom": null,
       "display": null,
       "flex": null,
       "flex_flow": null,
       "grid_area": null,
       "grid_auto_columns": null,
       "grid_auto_flow": null,
       "grid_auto_rows": null,
       "grid_column": null,
       "grid_gap": null,
       "grid_row": null,
       "grid_template_areas": null,
       "grid_template_columns": null,
       "grid_template_rows": null,
       "height": null,
       "justify_content": null,
       "justify_items": null,
       "left": null,
       "margin": null,
       "max_height": null,
       "max_width": null,
       "min_height": null,
       "min_width": null,
       "object_fit": null,
       "object_position": null,
       "order": null,
       "overflow": null,
       "overflow_x": null,
       "overflow_y": null,
       "padding": null,
       "right": null,
       "top": null,
       "visibility": null,
       "width": null
      }
     },
     "bc2b431f6d3d42e08dc57a77fcdbce0f": {
      "model_module": "@jupyter-widgets/base",
      "model_module_version": "1.2.0",
      "model_name": "LayoutModel",
      "state": {
       "_model_module": "@jupyter-widgets/base",
       "_model_module_version": "1.2.0",
       "_model_name": "LayoutModel",
       "_view_count": null,
       "_view_module": "@jupyter-widgets/base",
       "_view_module_version": "1.2.0",
       "_view_name": "LayoutView",
       "align_content": null,
       "align_items": null,
       "align_self": null,
       "border": null,
       "bottom": null,
       "display": null,
       "flex": null,
       "flex_flow": null,
       "grid_area": null,
       "grid_auto_columns": null,
       "grid_auto_flow": null,
       "grid_auto_rows": null,
       "grid_column": null,
       "grid_gap": null,
       "grid_row": null,
       "grid_template_areas": null,
       "grid_template_columns": null,
       "grid_template_rows": null,
       "height": null,
       "justify_content": null,
       "justify_items": null,
       "left": null,
       "margin": null,
       "max_height": null,
       "max_width": null,
       "min_height": null,
       "min_width": null,
       "object_fit": null,
       "object_position": null,
       "order": null,
       "overflow": null,
       "overflow_x": null,
       "overflow_y": null,
       "padding": null,
       "right": null,
       "top": null,
       "visibility": null,
       "width": null
      }
     },
     "be9a18f25afb472cb8fd5dd682ed6be7": {
      "model_module": "@jupyter-widgets/controls",
      "model_module_version": "1.5.0",
      "model_name": "HTMLModel",
      "state": {
       "_dom_classes": [],
       "_model_module": "@jupyter-widgets/controls",
       "_model_module_version": "1.5.0",
       "_model_name": "HTMLModel",
       "_view_count": null,
       "_view_module": "@jupyter-widgets/controls",
       "_view_module_version": "1.5.0",
       "_view_name": "HTMLView",
       "description": "",
       "description_tooltip": null,
       "layout": "IPY_MODEL_59bc83d46e4d4f28bfb8c30a6616602a",
       "placeholder": "​",
       "style": "IPY_MODEL_a2c724b1925d400481cc57fa06bcb163",
       "value": " 194M/194M [00:58&lt;00:00, 609kB/s]"
      }
     },
     "be9cb88571f642b987f95848d88c2ef4": {
      "model_module": "@jupyter-widgets/controls",
      "model_module_version": "1.5.0",
      "model_name": "DescriptionStyleModel",
      "state": {
       "_model_module": "@jupyter-widgets/controls",
       "_model_module_version": "1.5.0",
       "_model_name": "DescriptionStyleModel",
       "_view_count": null,
       "_view_module": "@jupyter-widgets/base",
       "_view_module_version": "1.2.0",
       "_view_name": "StyleView",
       "description_width": ""
      }
     },
     "c03c5b664dee4b148bb46c3352395a62": {
      "model_module": "@jupyter-widgets/controls",
      "model_module_version": "1.5.0",
      "model_name": "HTMLModel",
      "state": {
       "_dom_classes": [],
       "_model_module": "@jupyter-widgets/controls",
       "_model_module_version": "1.5.0",
       "_model_name": "HTMLModel",
       "_view_count": null,
       "_view_module": "@jupyter-widgets/controls",
       "_view_module_version": "1.5.0",
       "_view_name": "HTMLView",
       "description": "",
       "description_tooltip": null,
       "layout": "IPY_MODEL_58367838185a4e3cab3d2d034feeb116",
       "placeholder": "​",
       "style": "IPY_MODEL_0b5dc933f2cf4c1188de7f475f813058",
       "value": " 193M/193M [00:29&lt;00:00, 7.03MB/s]"
      }
     },
     "c10e4bf0600e451da91eef77d8e3c36c": {
      "model_module": "@jupyter-widgets/controls",
      "model_module_version": "1.5.0",
      "model_name": "DescriptionStyleModel",
      "state": {
       "_model_module": "@jupyter-widgets/controls",
       "_model_module_version": "1.5.0",
       "_model_name": "DescriptionStyleModel",
       "_view_count": null,
       "_view_module": "@jupyter-widgets/base",
       "_view_module_version": "1.2.0",
       "_view_name": "StyleView",
       "description_width": ""
      }
     },
     "c870c43b168d45688e36de064fbc524a": {
      "model_module": "@jupyter-widgets/controls",
      "model_module_version": "1.5.0",
      "model_name": "HBoxModel",
      "state": {
       "_dom_classes": [],
       "_model_module": "@jupyter-widgets/controls",
       "_model_module_version": "1.5.0",
       "_model_name": "HBoxModel",
       "_view_count": null,
       "_view_module": "@jupyter-widgets/controls",
       "_view_module_version": "1.5.0",
       "_view_name": "HBoxView",
       "box_style": "",
       "children": [
        "IPY_MODEL_e4e2a0649d4d4a519dad4be1d7fc7d7f",
        "IPY_MODEL_adda17394ed444e4bfe74da25a12c055",
        "IPY_MODEL_be9a18f25afb472cb8fd5dd682ed6be7"
       ],
       "layout": "IPY_MODEL_ba8423918fae4b469add7606cee7ec1b"
      }
     },
     "d10e22aabf544615a6c7d9b569816f00": {
      "model_module": "@jupyter-widgets/base",
      "model_module_version": "1.2.0",
      "model_name": "LayoutModel",
      "state": {
       "_model_module": "@jupyter-widgets/base",
       "_model_module_version": "1.2.0",
       "_model_name": "LayoutModel",
       "_view_count": null,
       "_view_module": "@jupyter-widgets/base",
       "_view_module_version": "1.2.0",
       "_view_name": "LayoutView",
       "align_content": null,
       "align_items": null,
       "align_self": null,
       "border": null,
       "bottom": null,
       "display": null,
       "flex": null,
       "flex_flow": null,
       "grid_area": null,
       "grid_auto_columns": null,
       "grid_auto_flow": null,
       "grid_auto_rows": null,
       "grid_column": null,
       "grid_gap": null,
       "grid_row": null,
       "grid_template_areas": null,
       "grid_template_columns": null,
       "grid_template_rows": null,
       "height": null,
       "justify_content": null,
       "justify_items": null,
       "left": null,
       "margin": null,
       "max_height": null,
       "max_width": null,
       "min_height": null,
       "min_width": null,
       "object_fit": null,
       "object_position": null,
       "order": null,
       "overflow": null,
       "overflow_x": null,
       "overflow_y": null,
       "padding": null,
       "right": null,
       "top": null,
       "visibility": null,
       "width": null
      }
     },
     "da523c7cc816486aa2c89d7acfdbdcdd": {
      "model_module": "@jupyter-widgets/controls",
      "model_module_version": "1.5.0",
      "model_name": "ProgressStyleModel",
      "state": {
       "_model_module": "@jupyter-widgets/controls",
       "_model_module_version": "1.5.0",
       "_model_name": "ProgressStyleModel",
       "_view_count": null,
       "_view_module": "@jupyter-widgets/base",
       "_view_module_version": "1.2.0",
       "_view_name": "StyleView",
       "bar_color": null,
       "description_width": ""
      }
     },
     "e4e2a0649d4d4a519dad4be1d7fc7d7f": {
      "model_module": "@jupyter-widgets/controls",
      "model_module_version": "1.5.0",
      "model_name": "HTMLModel",
      "state": {
       "_dom_classes": [],
       "_model_module": "@jupyter-widgets/controls",
       "_model_module_version": "1.5.0",
       "_model_name": "HTMLModel",
       "_view_count": null,
       "_view_module": "@jupyter-widgets/controls",
       "_view_module_version": "1.5.0",
       "_view_name": "HTMLView",
       "description": "",
       "description_tooltip": null,
       "layout": "IPY_MODEL_68b383968b6a4d7396dd0acfb2166d4b",
       "placeholder": "​",
       "style": "IPY_MODEL_328a6dba69f040aca1acddcb8e398bb0",
       "value": "Clean file foodmodel-re.pkl: 100%"
      }
     },
     "ea4880d5bc314f3e830d8fd0c964ae7f": {
      "model_module": "@jupyter-widgets/base",
      "model_module_version": "1.2.0",
      "model_name": "LayoutModel",
      "state": {
       "_model_module": "@jupyter-widgets/base",
       "_model_module_version": "1.2.0",
       "_model_name": "LayoutModel",
       "_view_count": null,
       "_view_module": "@jupyter-widgets/base",
       "_view_module_version": "1.2.0",
       "_view_name": "LayoutView",
       "align_content": null,
       "align_items": null,
       "align_self": null,
       "border": null,
       "bottom": null,
       "display": null,
       "flex": null,
       "flex_flow": null,
       "grid_area": null,
       "grid_auto_columns": null,
       "grid_auto_flow": null,
       "grid_auto_rows": null,
       "grid_column": null,
       "grid_gap": null,
       "grid_row": null,
       "grid_template_areas": null,
       "grid_template_columns": null,
       "grid_template_rows": null,
       "height": null,
       "justify_content": null,
       "justify_items": null,
       "left": null,
       "margin": null,
       "max_height": null,
       "max_width": null,
       "min_height": null,
       "min_width": null,
       "object_fit": null,
       "object_position": null,
       "order": null,
       "overflow": null,
       "overflow_x": null,
       "overflow_y": null,
       "padding": null,
       "right": null,
       "top": null,
       "visibility": null,
       "width": null
      }
     },
     "ef34a09bcbf6408f9e3199e1cebc8dac": {
      "model_module": "@jupyter-widgets/base",
      "model_module_version": "1.2.0",
      "model_name": "LayoutModel",
      "state": {
       "_model_module": "@jupyter-widgets/base",
       "_model_module_version": "1.2.0",
       "_model_name": "LayoutModel",
       "_view_count": null,
       "_view_module": "@jupyter-widgets/base",
       "_view_module_version": "1.2.0",
       "_view_name": "LayoutView",
       "align_content": null,
       "align_items": null,
       "align_self": null,
       "border": null,
       "bottom": null,
       "display": null,
       "flex": null,
       "flex_flow": null,
       "grid_area": null,
       "grid_auto_columns": null,
       "grid_auto_flow": null,
       "grid_auto_rows": null,
       "grid_column": null,
       "grid_gap": null,
       "grid_row": null,
       "grid_template_areas": null,
       "grid_template_columns": null,
       "grid_template_rows": null,
       "height": null,
       "justify_content": null,
       "justify_items": null,
       "left": null,
       "margin": null,
       "max_height": null,
       "max_width": null,
       "min_height": null,
       "min_width": null,
       "object_fit": null,
       "object_position": null,
       "order": null,
       "overflow": null,
       "overflow_x": null,
       "overflow_y": null,
       "padding": null,
       "right": null,
       "top": null,
       "visibility": null,
       "width": null
      }
     },
     "fe985346d8a94e318423951901ec4f70": {
      "model_module": "@jupyter-widgets/controls",
      "model_module_version": "1.5.0",
      "model_name": "HTMLModel",
      "state": {
       "_dom_classes": [],
       "_model_module": "@jupyter-widgets/controls",
       "_model_module_version": "1.5.0",
       "_model_name": "HTMLModel",
       "_view_count": null,
       "_view_module": "@jupyter-widgets/controls",
       "_view_module_version": "1.5.0",
       "_view_name": "HTMLView",
       "description": "",
       "description_tooltip": null,
       "layout": "IPY_MODEL_69b633da460d4c53ae940b596664beb2",
       "placeholder": "​",
       "style": "IPY_MODEL_0e5f9523d5f04b1ba3b7cbb47b9a9a3b",
       "value": "Download file foodmodel-re.pkl: 100%"
      }
     }
    },
    "version_major": 2,
    "version_minor": 0
   }
  }
 },
 "nbformat": 4,
 "nbformat_minor": 5
}
